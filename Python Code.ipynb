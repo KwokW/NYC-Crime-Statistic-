{
 "cells": [
  {
   "cell_type": "markdown",
   "metadata": {},
   "source": [
    "# Building an ETL Pipeline\n",
    "---"
   ]
  },
  {
   "cell_type": "markdown",
   "metadata": {},
   "source": [
    "### Step 0: Install the required python packages"
   ]
  },
  {
   "cell_type": "code",
   "execution_count": 1,
   "metadata": {},
   "outputs": [
    {
     "name": "stdout",
     "output_type": "stream",
     "text": [
      "Requirement already satisfied: sodapy in c:\\users\\jie\\anaconda3\\2022\\lib\\site-packages (2.1.1)\n",
      "Requirement already satisfied: requests>=2.20.0 in c:\\users\\jie\\anaconda3\\2022\\lib\\site-packages (from sodapy) (2.26.0)\n",
      "Requirement already satisfied: charset-normalizer~=2.0.0 in c:\\users\\jie\\anaconda3\\2022\\lib\\site-packages (from requests>=2.20.0->sodapy) (2.0.4)\n",
      "Requirement already satisfied: urllib3<1.27,>=1.21.1 in c:\\users\\jie\\anaconda3\\2022\\lib\\site-packages (from requests>=2.20.0->sodapy) (1.26.7)\n",
      "Requirement already satisfied: idna<4,>=2.5 in c:\\users\\jie\\anaconda3\\2022\\lib\\site-packages (from requests>=2.20.0->sodapy) (3.2)\n",
      "Requirement already satisfied: certifi>=2017.4.17 in c:\\users\\jie\\anaconda3\\2022\\lib\\site-packages (from requests>=2.20.0->sodapy) (2021.10.8)\n",
      "Note: you may need to restart the kernel to use updated packages.\n"
     ]
    }
   ],
   "source": [
    "pip install --upgrade sodapy"
   ]
  },
  {
   "cell_type": "code",
   "execution_count": 2,
   "metadata": {},
   "outputs": [
    {
     "name": "stdout",
     "output_type": "stream",
     "text": [
      "Requirement already satisfied: db-dtypes in c:\\users\\jie\\anaconda3\\2022\\lib\\site-packages (1.0.0)\n",
      "Requirement already satisfied: packaging>=17.0 in c:\\users\\jie\\anaconda3\\2022\\lib\\site-packages (from db-dtypes) (21.0)\n",
      "Requirement already satisfied: numpy<2.0dev,>=1.16.6 in c:\\users\\jie\\anaconda3\\2022\\lib\\site-packages (from db-dtypes) (1.20.3)\n",
      "Requirement already satisfied: pyarrow<8.0dev,>=3.0.0 in c:\\users\\jie\\anaconda3\\2022\\lib\\site-packages (from db-dtypes) (7.0.0)\n",
      "Requirement already satisfied: pandas<2.0dev,>=0.24.2 in c:\\users\\jie\\anaconda3\\2022\\lib\\site-packages (from db-dtypes) (1.3.4)\n",
      "Requirement already satisfied: pyparsing>=2.0.2 in c:\\users\\jie\\anaconda3\\2022\\lib\\site-packages (from packaging>=17.0->db-dtypes) (3.0.4)\n",
      "Requirement already satisfied: python-dateutil>=2.7.3 in c:\\users\\jie\\anaconda3\\2022\\lib\\site-packages (from pandas<2.0dev,>=0.24.2->db-dtypes) (2.8.2)\n",
      "Requirement already satisfied: pytz>=2017.3 in c:\\users\\jie\\anaconda3\\2022\\lib\\site-packages (from pandas<2.0dev,>=0.24.2->db-dtypes) (2021.3)\n",
      "Requirement already satisfied: six>=1.5 in c:\\users\\jie\\anaconda3\\2022\\lib\\site-packages (from python-dateutil>=2.7.3->pandas<2.0dev,>=0.24.2->db-dtypes) (1.16.0)\n",
      "Note: you may need to restart the kernel to use updated packages.\n"
     ]
    }
   ],
   "source": [
    "pip install --upgrade db-dtypes"
   ]
  },
  {
   "cell_type": "code",
   "execution_count": 3,
   "metadata": {},
   "outputs": [
    {
     "name": "stdout",
     "output_type": "stream",
     "text": [
      "Requirement already satisfied: pyarrow in c:\\users\\jie\\anaconda3\\2022\\lib\\site-packages (7.0.0)\n",
      "Requirement already satisfied: numpy>=1.16.6 in c:\\users\\jie\\anaconda3\\2022\\lib\\site-packages (from pyarrow) (1.20.3)\n",
      "Note: you may need to restart the kernel to use updated packages.\n"
     ]
    }
   ],
   "source": [
    "pip install --upgrade pyarrow"
   ]
  },
  {
   "cell_type": "code",
   "execution_count": 4,
   "metadata": {},
   "outputs": [
    {
     "name": "stdout",
     "output_type": "stream",
     "text": [
      "Requirement already satisfied: google-cloud-bigquery in c:\\users\\jie\\anaconda3\\2022\\lib\\site-packages (3.0.1)\n",
      "Requirement already satisfied: protobuf>=3.12.0 in c:\\users\\jie\\anaconda3\\2022\\lib\\site-packages (from google-cloud-bigquery) (3.19.4)\n",
      "Requirement already satisfied: google-resumable-media<3.0dev,>=0.6.0 in c:\\users\\jie\\anaconda3\\2022\\lib\\site-packages (from google-cloud-bigquery) (2.3.2)\n",
      "Requirement already satisfied: google-cloud-bigquery-storage<3.0.0dev,>=2.0.0 in c:\\users\\jie\\anaconda3\\2022\\lib\\site-packages (from google-cloud-bigquery) (2.13.0)\n",
      "Requirement already satisfied: requests<3.0.0dev,>=2.18.0 in c:\\users\\jie\\anaconda3\\2022\\lib\\site-packages (from google-cloud-bigquery) (2.26.0)\n",
      "Requirement already satisfied: proto-plus>=1.15.0 in c:\\users\\jie\\anaconda3\\2022\\lib\\site-packages (from google-cloud-bigquery) (1.20.3)\n",
      "Requirement already satisfied: python-dateutil<3.0dev,>=2.7.2 in c:\\users\\jie\\anaconda3\\2022\\lib\\site-packages (from google-cloud-bigquery) (2.8.2)\n",
      "Requirement already satisfied: google-cloud-core<3.0.0dev,>=1.4.1 in c:\\users\\jie\\anaconda3\\2022\\lib\\site-packages (from google-cloud-bigquery) (2.2.3)\n",
      "Requirement already satisfied: google-api-core[grpc]!=2.0.*,!=2.1.*,!=2.2.*,!=2.3.0,<3.0.0dev,>=1.31.5 in c:\\users\\jie\\anaconda3\\2022\\lib\\site-packages (from google-cloud-bigquery) (2.7.1)\n",
      "Requirement already satisfied: packaging>=14.3 in c:\\users\\jie\\anaconda3\\2022\\lib\\site-packages (from google-cloud-bigquery) (21.0)\n",
      "Requirement already satisfied: grpcio<2.0dev,>=1.38.1 in c:\\users\\jie\\anaconda3\\2022\\lib\\site-packages (from google-cloud-bigquery) (1.45.0)\n",
      "Requirement already satisfied: pyarrow<8.0dev,>=3.0.0 in c:\\users\\jie\\anaconda3\\2022\\lib\\site-packages (from google-cloud-bigquery) (7.0.0)\n",
      "Requirement already satisfied: google-auth<3.0dev,>=1.25.0 in c:\\users\\jie\\anaconda3\\2022\\lib\\site-packages (from google-api-core[grpc]!=2.0.*,!=2.1.*,!=2.2.*,!=2.3.0,<3.0.0dev,>=1.31.5->google-cloud-bigquery) (2.6.2)\n",
      "Requirement already satisfied: googleapis-common-protos<2.0dev,>=1.52.0 in c:\\users\\jie\\anaconda3\\2022\\lib\\site-packages (from google-api-core[grpc]!=2.0.*,!=2.1.*,!=2.2.*,!=2.3.0,<3.0.0dev,>=1.31.5->google-cloud-bigquery) (1.56.0)\n",
      "Requirement already satisfied: grpcio-status<2.0dev,>=1.33.2 in c:\\users\\jie\\anaconda3\\2022\\lib\\site-packages (from google-api-core[grpc]!=2.0.*,!=2.1.*,!=2.2.*,!=2.3.0,<3.0.0dev,>=1.31.5->google-cloud-bigquery) (1.45.0)\n",
      "Requirement already satisfied: pyasn1-modules>=0.2.1 in c:\\users\\jie\\anaconda3\\2022\\lib\\site-packages (from google-auth<3.0dev,>=1.25.0->google-api-core[grpc]!=2.0.*,!=2.1.*,!=2.2.*,!=2.3.0,<3.0.0dev,>=1.31.5->google-cloud-bigquery) (0.2.8)\n",
      "Requirement already satisfied: rsa<5,>=3.1.4 in c:\\users\\jie\\anaconda3\\2022\\lib\\site-packages (from google-auth<3.0dev,>=1.25.0->google-api-core[grpc]!=2.0.*,!=2.1.*,!=2.2.*,!=2.3.0,<3.0.0dev,>=1.31.5->google-cloud-bigquery) (4.8)\n",
      "Requirement already satisfied: cachetools<6.0,>=2.0.0 in c:\\users\\jie\\anaconda3\\2022\\lib\\site-packages (from google-auth<3.0dev,>=1.25.0->google-api-core[grpc]!=2.0.*,!=2.1.*,!=2.2.*,!=2.3.0,<3.0.0dev,>=1.31.5->google-cloud-bigquery) (5.0.0)\n",
      "Requirement already satisfied: six>=1.9.0 in c:\\users\\jie\\anaconda3\\2022\\lib\\site-packages (from google-auth<3.0dev,>=1.25.0->google-api-core[grpc]!=2.0.*,!=2.1.*,!=2.2.*,!=2.3.0,<3.0.0dev,>=1.31.5->google-cloud-bigquery) (1.16.0)\n",
      "Requirement already satisfied: google-crc32c<2.0dev,>=1.0 in c:\\users\\jie\\anaconda3\\2022\\lib\\site-packages (from google-resumable-media<3.0dev,>=0.6.0->google-cloud-bigquery) (1.3.0)\n",
      "Requirement already satisfied: pyparsing>=2.0.2 in c:\\users\\jie\\anaconda3\\2022\\lib\\site-packages (from packaging>=14.3->google-cloud-bigquery) (3.0.4)\n",
      "Requirement already satisfied: numpy>=1.16.6 in c:\\users\\jie\\anaconda3\\2022\\lib\\site-packages (from pyarrow<8.0dev,>=3.0.0->google-cloud-bigquery) (1.20.3)\n",
      "Requirement already satisfied: pyasn1<0.5.0,>=0.4.6 in c:\\users\\jie\\anaconda3\\2022\\lib\\site-packages (from pyasn1-modules>=0.2.1->google-auth<3.0dev,>=1.25.0->google-api-core[grpc]!=2.0.*,!=2.1.*,!=2.2.*,!=2.3.0,<3.0.0dev,>=1.31.5->google-cloud-bigquery) (0.4.8)\n",
      "Requirement already satisfied: urllib3<1.27,>=1.21.1 in c:\\users\\jie\\anaconda3\\2022\\lib\\site-packages (from requests<3.0.0dev,>=2.18.0->google-cloud-bigquery) (1.26.7)\n",
      "Requirement already satisfied: idna<4,>=2.5 in c:\\users\\jie\\anaconda3\\2022\\lib\\site-packages (from requests<3.0.0dev,>=2.18.0->google-cloud-bigquery) (3.2)\n",
      "Requirement already satisfied: charset-normalizer~=2.0.0 in c:\\users\\jie\\anaconda3\\2022\\lib\\site-packages (from requests<3.0.0dev,>=2.18.0->google-cloud-bigquery) (2.0.4)\n",
      "Requirement already satisfied: certifi>=2017.4.17 in c:\\users\\jie\\anaconda3\\2022\\lib\\site-packages (from requests<3.0.0dev,>=2.18.0->google-cloud-bigquery) (2021.10.8)\n",
      "Note: you may need to restart the kernel to use updated packages.\n"
     ]
    }
   ],
   "source": [
    "pip install --upgrade google-cloud-bigquery"
   ]
  },
  {
   "cell_type": "markdown",
   "metadata": {},
   "source": [
    "#### Now, on the top of your Notebook select \"Kernel\" -> \"Restart and Clear Output\"\n",
    "Then, continue from the next cell"
   ]
  },
  {
   "cell_type": "markdown",
   "metadata": {},
   "source": [
    "### Step 1: Setup your NYC Open Data variables (ACTION REQUIRED HERE)"
   ]
  },
  {
   "cell_type": "code",
   "execution_count": 5,
   "metadata": {},
   "outputs": [],
   "source": [
    "import pandas as pd\n",
    "import numpy as np\n",
    "from sodapy import Socrata\n",
    "from google.cloud import bigquery\n",
    "from google.oauth2 import service_account"
   ]
  },
  {
   "cell_type": "code",
   "execution_count": 6,
   "metadata": {},
   "outputs": [],
   "source": [
    "# setup the host name for the API endpoint (the https:// part will be added automatically)\n",
    "# only need to change this if you are not using NYC Open Data\n",
    "data_url = 'data.cityofnewyork.us'"
   ]
  },
  {
   "cell_type": "code",
   "execution_count": 7,
   "metadata": {},
   "outputs": [],
   "source": [
    "# setup the data set at the API endpoint (311 data in this case)\n",
    "# For example: https://data.cityofnewyork.us/Social-Services/311-Service-Requests-from-2010-to-Present/erm2-nwe9.json\n",
    "# would give us 'erm2-nwe9'\n",
    "# 'https://data.cityofnewyork.us/resource/uip8-fykc.json'\n",
    "data_set = 'uip8-fykc'"
   ]
  },
  {
   "cell_type": "code",
   "execution_count": 8,
   "metadata": {},
   "outputs": [],
   "source": [
    "data_set_2 = 'mv4k-y93f'"
   ]
  },
  {
   "cell_type": "code",
   "execution_count": 9,
   "metadata": {},
   "outputs": [],
   "source": [
    "# Setup your App Token, which you created in Week 6\n",
    "# You can find your app token by logging into: https://data.cityofnewyork.us/profile/edit/developer_settings\n",
    "app_token = 'JaXzXa8jgZjrcfmaHSe7UEEzC'"
   ]
  },
  {
   "cell_type": "code",
   "execution_count": 10,
   "metadata": {},
   "outputs": [
    {
     "name": "stdout",
     "output_type": "stream",
     "text": [
      "nyc open data client name is: <sodapy.socrata.Socrata object at 0x0000028781E08040>\n",
      "nyc open data client data type is: <class 'sodapy.socrata.Socrata'>\n"
     ]
    }
   ],
   "source": [
    "# run this cell to setup your Socrata client that connects python to NYC Open Data\n",
    "\n",
    "# create the client that points to the API endpoint\n",
    "nyc_open_data_client = Socrata(data_url, app_token, timeout = 200)\n",
    "print(f\"nyc open data client name is: {nyc_open_data_client}\")\n",
    "print(f\"nyc open data client data type is: {type(nyc_open_data_client)}\")"
   ]
  },
  {
   "cell_type": "markdown",
   "metadata": {},
   "source": [
    "### Step 2: Setup your Google BigQuery variables (ACTION REQUIRED HERE)"
   ]
  },
  {
   "cell_type": "markdown",
   "metadata": {},
   "source": [
    "If you did not create a key path in class on 3/30/22 (which created a json file on your computer), you must create one to continue:\n",
    "1. Open BigQuery\n",
    "2. On the top-left, click on the Navigation Menu\n",
    "3. In the Navigation Menu, go to \"IAM & Admin\" -> \"Sercive Accounts\"\n",
    "4. On the top of the page, click on \"Create Service Account\"\n",
    "5. Account name: cis9440-spring2022\n",
    "6. Click create and continue\n",
    "7. Set Role to Owner\n",
    "8. Click Continue\n",
    "9. Click Done\n",
    "10. In the new row for your Service Account, click on the 3 dots in the \"Action\" column. Select \"Manage Keys\"\n",
    "11. Click \"Add Key\", then \"Create New Key\". Select the \"JSON\" radio button and click \"Create\"\n",
    "12. In the next cell, set key_path to the exact file path of your new JSON file. For example, it will look like r'C:\\Users\\Downloads\\cis9440-324315-70048a5e1138.json'"
   ]
  },
  {
   "cell_type": "code",
   "execution_count": 11,
   "metadata": {},
   "outputs": [],
   "source": [
    "# CHANGE THIS TO YOUR FILE PATH\n",
    "key_path = r'C:\\Users\\kwokw\\Downloads\\cis-9440-342619-57f55eab45f2.json'"
   ]
  },
  {
   "cell_type": "code",
   "execution_count": 12,
   "metadata": {},
   "outputs": [
    {
     "name": "stdout",
     "output_type": "stream",
     "text": [
      "bigquery client name is: <google.cloud.bigquery.client.Client object at 0x0000028781E08310>\n",
      "bigquery client data type is: <class 'google.cloud.bigquery.client.Client'>\n"
     ]
    }
   ],
   "source": [
    "# run this cell without changing anything to setup your credentials\n",
    "credentials = service_account.Credentials.from_service_account_file(key_path,\n",
    "                                                                    scopes=[\"https://www.googleapis.com/auth/cloud-platform\"],)\n",
    "bigquery_client = bigquery.Client(credentials = credentials,\n",
    "                                 project = credentials.project_id)\n",
    "\n",
    "print(f\"bigquery client name is: {bigquery_client}\")\n",
    "print(f\"bigquery client data type is: {type(bigquery_client)}\")"
   ]
  },
  {
   "cell_type": "markdown",
   "metadata": {},
   "source": [
    "Now, you need to create your dataset id:\n",
    "1. Go to bigquery\n",
    "2. Inside the \"Explorer\" window, click on the 3 dots to the right of your cis9440 project called \"View Actions\"\n",
    "3. Select \"Create dataset\"\n",
    "4. Leave the Project ID as it is, name your Dataset ID etl_dataset\n",
    "5. Expand your cis9440 project with the triangle on its left-hand side so you can see your new etl_dataset dataset\n",
    "6. On the right of your etl_dataset, click the 3 dots for \"View Actions\" -> \"Open\"\n",
    "7. You should now see the \"Dataset info\". Copy the entire \"Dataset ID\" and paste it in the variable below"
   ]
  },
  {
   "cell_type": "code",
   "execution_count": 13,
   "metadata": {},
   "outputs": [
    {
     "name": "stdout",
     "output_type": "stream",
     "text": [
      "your dataset_id is: etl_dataset\n"
     ]
    }
   ],
   "source": [
    "dataset_id = 'etl_dataset'   # PASTE THIS DATASET ID FROM ABOVE STEPS\n",
    "\n",
    "dataset_id = dataset_id.replace(':', '.')\n",
    "print(f\"your dataset_id is: {dataset_id}\")"
   ]
  },
  {
   "cell_type": "markdown",
   "metadata": {},
   "source": [
    "### Step 3: Extract data"
   ]
  },
  {
   "cell_type": "markdown",
   "metadata": {},
   "source": [
    "1. connect to NYC Open Data with API Key\n",
    "2. pull specific dataset as a pandas dataframe\n",
    "3. Look at shape of extracted data"
   ]
  },
  {
   "cell_type": "markdown",
   "metadata": {},
   "source": [
    "#### sodapy client.get parameters\n",
    "1. select\n",
    "2. where\n",
    "3. order\n",
    "4. limit\n",
    "5. group"
   ]
  },
  {
   "cell_type": "code",
   "execution_count": 14,
   "metadata": {},
   "outputs": [
    {
     "name": "stdout",
     "output_type": "stream",
     "text": [
      "total records in uip8-fykc: [{'COUNT': '155507'}]\n"
     ]
    }
   ],
   "source": [
    "# Get the total number of records in our the entire data set\n",
    "total_record_count = nyc_open_data_client.get(data_set, select = \"COUNT(*)\")\n",
    "print(f\"total records in {data_set}: {total_record_count}\")"
   ]
  },
  {
   "cell_type": "code",
   "execution_count": 15,
   "metadata": {},
   "outputs": [
    {
     "name": "stdout",
     "output_type": "stream",
     "text": [
      "target records in uip8-fykc: [{'COUNT': '155507'}]\n"
     ]
    }
   ],
   "source": [
    "# Get the total number of records in our target data set\n",
    "# UPDATE YOUR WHERE FILTER HERE IF NEEDED, below is only an example\n",
    "target_record_count = nyc_open_data_client.get(data_set,\n",
    "                                               where = \"Arrest_Date > '2020-12-31'\",\n",
    "                                               select= \"COUNT(*)\")\n",
    "print(f\"target records in {data_set}: {target_record_count}\")"
   ]
  },
  {
   "cell_type": "code",
   "execution_count": 16,
   "metadata": {},
   "outputs": [
    {
     "name": "stdout",
     "output_type": "stream",
     "text": [
      "function took 32.2 seconds\n",
      "the shape of your dataframe is: (155507, 19)\n"
     ]
    }
   ],
   "source": [
    "# Now, loop through target data set to pull all rows in chunks (we cannot pull all rows at once)\n",
    "# AGAIN, UPDATE WHERE FILTER INSIDE BELOW FUNCTION\n",
    "\n",
    "def pull_data_in_chunks(target_record_count):\n",
    "    \n",
    "    # measure time this function takes\n",
    "    import time\n",
    "    start_time = time.time()\n",
    "\n",
    "    start = 0             # start at 0\n",
    "    chunk_size = 2000     # fetch 2000 rows at a time\n",
    "    results = []          # empty out our result list\n",
    "    record_count = target_record_count\n",
    "\n",
    "    while True:\n",
    "\n",
    "        # fetch the set of records starting at 'start'\n",
    "        results.extend(nyc_open_data_client.get(data_set,\n",
    "                                                where = \"Arrest_Date > '2020-12-31'\",\n",
    "                                                offset = start,\n",
    "                                                limit = chunk_size))\n",
    "\n",
    "        # update the starting record number\n",
    "        start = start + chunk_size\n",
    "\n",
    "        # if we have fetched all of the records (we have reached record_count), exit loop\n",
    "        if (start > int(record_count[0]['COUNT'])):\n",
    "            break\n",
    "\n",
    "    # convert the list into a pandas data frame\n",
    "    data = pd.DataFrame.from_records(results)\n",
    "\n",
    "    end_time = time.time()\n",
    "    print(f\"function took {round(end_time - start_time, 1)} seconds\")\n",
    "\n",
    "    print(f\"the shape of your dataframe is: {data.shape}\")\n",
    "    return data\n",
    "\n",
    "data = pull_data_in_chunks(target_record_count)"
   ]
  },
  {
   "cell_type": "code",
   "execution_count": 17,
   "metadata": {},
   "outputs": [],
   "source": [
    "target_record_count_2 = nyc_open_data_client.get(data_set_2,\n",
    "                                               where = \"Summons_date > '2020-12-31'\",\n",
    "                                               select= \"COUNT(*)\")"
   ]
  },
  {
   "cell_type": "code",
   "execution_count": 18,
   "metadata": {},
   "outputs": [
    {
     "name": "stdout",
     "output_type": "stream",
     "text": [
      "function took 8.8 seconds\n",
      "the shape of your dataframe is: (155507, 19)\n"
     ]
    }
   ],
   "source": [
    "# Now, loop through target data set to pull all rows in chunks (we cannot pull all rows at once)\n",
    "# AGAIN, UPDATE WHERE FILTER INSIDE BELOW FUNCTION\n",
    "\n",
    "def pull_data_in_chunks(target_record_count_2):\n",
    "    \n",
    "    # measure time this function takes\n",
    "    import time\n",
    "    start_time = time.time()\n",
    "\n",
    "    start = 0             # start at 0\n",
    "    chunk_size = 2000     # fetch 2000 rows at a time\n",
    "    results = []          # empty out our result list\n",
    "    record_count = target_record_count_2\n",
    "\n",
    "    while True:\n",
    "\n",
    "        # fetch the set of records starting at 'start'\n",
    "        results.extend(nyc_open_data_client.get(data_set_2,\n",
    "                                                where = \"Summons_date > '2020-12-31'\",\n",
    "                                                offset = start,\n",
    "                                                limit = chunk_size))\n",
    "\n",
    "        # update the starting record number\n",
    "        start = start + chunk_size\n",
    "\n",
    "        # if we have fetched all of the records (we have reached record_count), exit loop\n",
    "        if (start > int(record_count[0]['COUNT'])):\n",
    "            break\n",
    "\n",
    "    # convert the list into a pandas data frame\n",
    "    data_2 = pd.DataFrame.from_records(results)\n",
    "\n",
    "    end_time = time.time()\n",
    "    print(f\"function took {round(end_time - start_time, 1)} seconds\")\n",
    "\n",
    "    print(f\"the shape of your dataframe is: {data.shape}\")\n",
    "    return data_2\n",
    "\n",
    "data_2 = pull_data_in_chunks(target_record_count_2)"
   ]
  },
  {
   "cell_type": "markdown",
   "metadata": {},
   "source": [
    "### Step 4: Data Profiling"
   ]
  },
  {
   "cell_type": "markdown",
   "metadata": {},
   "source": [
    "1. Distinct values per column\n",
    "2. Null values per column\n",
    "3. Summary statistics per numeric column"
   ]
  },
  {
   "cell_type": "code",
   "execution_count": 19,
   "metadata": {},
   "outputs": [
    {
     "data": {
      "text/plain": [
       "Index(['arrest_key', 'arrest_date', 'pd_cd', 'pd_desc', 'ky_cd', 'ofns_desc',\n",
       "       'law_code', 'law_cat_cd', 'arrest_boro', 'arrest_precinct',\n",
       "       'jurisdiction_code', 'age_group', 'perp_sex', 'perp_race', 'x_coord_cd',\n",
       "       'y_coord_cd', 'latitude', 'longitude', 'geocoded_column'],\n",
       "      dtype='object')"
      ]
     },
     "execution_count": 19,
     "metadata": {},
     "output_type": "execute_result"
    }
   ],
   "source": [
    "# what are the columns in our dataframe?\n",
    "data.columns"
   ]
  },
  {
   "cell_type": "code",
   "execution_count": 20,
   "metadata": {},
   "outputs": [
    {
     "data": {
      "text/plain": [
       "Index(['summons_key', 'summons_date', 'offense_description',\n",
       "       'law_section_number', 'law_description', 'summons_category_type',\n",
       "       'age_group', 'jurisdiction_code', 'boro', 'precinct_of_occur', 'sex',\n",
       "       'race', 'x_coordinate_cd', 'y_coordinate_cd', 'latitude', 'longitude',\n",
       "       'geocoded_column'],\n",
       "      dtype='object')"
      ]
     },
     "execution_count": 20,
     "metadata": {},
     "output_type": "execute_result"
    }
   ],
   "source": [
    "data_2.columns"
   ]
  },
  {
   "cell_type": "code",
   "execution_count": 21,
   "metadata": {},
   "outputs": [
    {
     "name": "stdout",
     "output_type": "stream",
     "text": [
      "unable to read column: geocoded_column, you may want to drop this column\n"
     ]
    }
   ],
   "source": [
    "# create and run a function to ceate data profiling dataframe\n",
    "\n",
    "def create_data_profiling_df(data):\n",
    "    \n",
    "    # create an empty dataframe to gather information about each column\n",
    "    data_profiling_df = pd.DataFrame(columns = [\"column_name\",\n",
    "                                                \"column_type\",\n",
    "                                                \"unique_values\",\n",
    "                                                \"duplicate_values\",\n",
    "                                                \"null_values\",\n",
    "                                                \"non_null_values\",\n",
    "                                                \"percent_null\"])\n",
    "\n",
    "    # loop through each column to add rows to the data_profiling_df dataframe\n",
    "    for column in data.columns:\n",
    "\n",
    "        info_dict = {}\n",
    "\n",
    "        try:\n",
    "            info_dict[\"column_name\"] = column\n",
    "            info_dict[\"column_type\"] = data[column].dtypes\n",
    "            info_dict[\"unique_values\"] = len(data[column].unique())\n",
    "            info_dict[\"duplicate_values\"] = (data[column].shape[0] - data[column].isna().sum()) - len(data[column].unique())\n",
    "            info_dict[\"null_values\"] = data[column].isna().sum()\n",
    "            info_dict[\"non_null_values\"] = data[column].shape[0] - data[column].isna().sum()\n",
    "            info_dict[\"percent_null\"] = round((data[column].isna().sum()) / (data[column].shape[0]), 3)\n",
    "\n",
    "        except:\n",
    "            print(f\"unable to read column: {column}, you may want to drop this column\")\n",
    "\n",
    "        data_profiling_df = data_profiling_df.append(info_dict, ignore_index=True)\n",
    "\n",
    "    data_profiling_df.sort_values(by = ['unique_values', \"non_null_values\"],\n",
    "                                  ascending = [False, False],\n",
    "                                  inplace=True)\n",
    "    \n",
    "    return data_profiling_df\n",
    "\n",
    "data_profiling_df = create_data_profiling_df(data)"
   ]
  },
  {
   "cell_type": "code",
   "execution_count": 22,
   "metadata": {},
   "outputs": [],
   "source": [
    "# ACTION REQUIRED\n",
    "# If any of the above columns were unable to be read by your function, you may want to drop them\n",
    "# To drop a column, update the column name in the line below and run this cell\n",
    "data.drop([\"geocoded_column\"], axis = 1, inplace = True)"
   ]
  },
  {
   "cell_type": "code",
   "execution_count": 23,
   "metadata": {},
   "outputs": [
    {
     "data": {
      "text/html": [
       "<div>\n",
       "<style scoped>\n",
       "    .dataframe tbody tr th:only-of-type {\n",
       "        vertical-align: middle;\n",
       "    }\n",
       "\n",
       "    .dataframe tbody tr th {\n",
       "        vertical-align: top;\n",
       "    }\n",
       "\n",
       "    .dataframe thead th {\n",
       "        text-align: right;\n",
       "    }\n",
       "</style>\n",
       "<table border=\"1\" class=\"dataframe\">\n",
       "  <thead>\n",
       "    <tr style=\"text-align: right;\">\n",
       "      <th></th>\n",
       "      <th>column_name</th>\n",
       "      <th>column_type</th>\n",
       "      <th>unique_values</th>\n",
       "      <th>duplicate_values</th>\n",
       "      <th>null_values</th>\n",
       "      <th>non_null_values</th>\n",
       "      <th>percent_null</th>\n",
       "    </tr>\n",
       "  </thead>\n",
       "  <tbody>\n",
       "    <tr>\n",
       "      <th>0</th>\n",
       "      <td>arrest_key</td>\n",
       "      <td>object</td>\n",
       "      <td>155507</td>\n",
       "      <td>0</td>\n",
       "      <td>0</td>\n",
       "      <td>155507</td>\n",
       "      <td>0.000</td>\n",
       "    </tr>\n",
       "    <tr>\n",
       "      <th>16</th>\n",
       "      <td>latitude</td>\n",
       "      <td>object</td>\n",
       "      <td>34210</td>\n",
       "      <td>121297</td>\n",
       "      <td>0</td>\n",
       "      <td>155507</td>\n",
       "      <td>0.000</td>\n",
       "    </tr>\n",
       "    <tr>\n",
       "      <th>17</th>\n",
       "      <td>longitude</td>\n",
       "      <td>object</td>\n",
       "      <td>34210</td>\n",
       "      <td>121297</td>\n",
       "      <td>0</td>\n",
       "      <td>155507</td>\n",
       "      <td>0.000</td>\n",
       "    </tr>\n",
       "    <tr>\n",
       "      <th>15</th>\n",
       "      <td>y_coord_cd</td>\n",
       "      <td>object</td>\n",
       "      <td>29300</td>\n",
       "      <td>126207</td>\n",
       "      <td>0</td>\n",
       "      <td>155507</td>\n",
       "      <td>0.000</td>\n",
       "    </tr>\n",
       "    <tr>\n",
       "      <th>14</th>\n",
       "      <td>x_coord_cd</td>\n",
       "      <td>object</td>\n",
       "      <td>27466</td>\n",
       "      <td>128041</td>\n",
       "      <td>0</td>\n",
       "      <td>155507</td>\n",
       "      <td>0.000</td>\n",
       "    </tr>\n",
       "    <tr>\n",
       "      <th>6</th>\n",
       "      <td>law_code</td>\n",
       "      <td>object</td>\n",
       "      <td>1005</td>\n",
       "      <td>154502</td>\n",
       "      <td>0</td>\n",
       "      <td>155507</td>\n",
       "      <td>0.000</td>\n",
       "    </tr>\n",
       "    <tr>\n",
       "      <th>1</th>\n",
       "      <td>arrest_date</td>\n",
       "      <td>object</td>\n",
       "      <td>365</td>\n",
       "      <td>155142</td>\n",
       "      <td>0</td>\n",
       "      <td>155507</td>\n",
       "      <td>0.000</td>\n",
       "    </tr>\n",
       "    <tr>\n",
       "      <th>2</th>\n",
       "      <td>pd_cd</td>\n",
       "      <td>object</td>\n",
       "      <td>261</td>\n",
       "      <td>155217</td>\n",
       "      <td>29</td>\n",
       "      <td>155478</td>\n",
       "      <td>0.000</td>\n",
       "    </tr>\n",
       "    <tr>\n",
       "      <th>3</th>\n",
       "      <td>pd_desc</td>\n",
       "      <td>object</td>\n",
       "      <td>242</td>\n",
       "      <td>155162</td>\n",
       "      <td>103</td>\n",
       "      <td>155404</td>\n",
       "      <td>0.001</td>\n",
       "    </tr>\n",
       "    <tr>\n",
       "      <th>9</th>\n",
       "      <td>arrest_precinct</td>\n",
       "      <td>object</td>\n",
       "      <td>77</td>\n",
       "      <td>155430</td>\n",
       "      <td>0</td>\n",
       "      <td>155507</td>\n",
       "      <td>0.000</td>\n",
       "    </tr>\n",
       "    <tr>\n",
       "      <th>4</th>\n",
       "      <td>ky_cd</td>\n",
       "      <td>object</td>\n",
       "      <td>67</td>\n",
       "      <td>155337</td>\n",
       "      <td>103</td>\n",
       "      <td>155404</td>\n",
       "      <td>0.001</td>\n",
       "    </tr>\n",
       "    <tr>\n",
       "      <th>5</th>\n",
       "      <td>ofns_desc</td>\n",
       "      <td>object</td>\n",
       "      <td>64</td>\n",
       "      <td>155340</td>\n",
       "      <td>103</td>\n",
       "      <td>155404</td>\n",
       "      <td>0.001</td>\n",
       "    </tr>\n",
       "    <tr>\n",
       "      <th>10</th>\n",
       "      <td>jurisdiction_code</td>\n",
       "      <td>object</td>\n",
       "      <td>26</td>\n",
       "      <td>155481</td>\n",
       "      <td>0</td>\n",
       "      <td>155507</td>\n",
       "      <td>0.000</td>\n",
       "    </tr>\n",
       "    <tr>\n",
       "      <th>13</th>\n",
       "      <td>perp_race</td>\n",
       "      <td>object</td>\n",
       "      <td>7</td>\n",
       "      <td>155500</td>\n",
       "      <td>0</td>\n",
       "      <td>155507</td>\n",
       "      <td>0.000</td>\n",
       "    </tr>\n",
       "    <tr>\n",
       "      <th>8</th>\n",
       "      <td>arrest_boro</td>\n",
       "      <td>object</td>\n",
       "      <td>5</td>\n",
       "      <td>155502</td>\n",
       "      <td>0</td>\n",
       "      <td>155507</td>\n",
       "      <td>0.000</td>\n",
       "    </tr>\n",
       "    <tr>\n",
       "      <th>11</th>\n",
       "      <td>age_group</td>\n",
       "      <td>object</td>\n",
       "      <td>5</td>\n",
       "      <td>155502</td>\n",
       "      <td>0</td>\n",
       "      <td>155507</td>\n",
       "      <td>0.000</td>\n",
       "    </tr>\n",
       "    <tr>\n",
       "      <th>7</th>\n",
       "      <td>law_cat_cd</td>\n",
       "      <td>object</td>\n",
       "      <td>5</td>\n",
       "      <td>154109</td>\n",
       "      <td>1393</td>\n",
       "      <td>154114</td>\n",
       "      <td>0.009</td>\n",
       "    </tr>\n",
       "    <tr>\n",
       "      <th>12</th>\n",
       "      <td>perp_sex</td>\n",
       "      <td>object</td>\n",
       "      <td>2</td>\n",
       "      <td>155505</td>\n",
       "      <td>0</td>\n",
       "      <td>155507</td>\n",
       "      <td>0.000</td>\n",
       "    </tr>\n",
       "    <tr>\n",
       "      <th>18</th>\n",
       "      <td>geocoded_column</td>\n",
       "      <td>object</td>\n",
       "      <td>NaN</td>\n",
       "      <td>NaN</td>\n",
       "      <td>NaN</td>\n",
       "      <td>NaN</td>\n",
       "      <td>NaN</td>\n",
       "    </tr>\n",
       "  </tbody>\n",
       "</table>\n",
       "</div>"
      ],
      "text/plain": [
       "          column_name column_type unique_values duplicate_values null_values  \\\n",
       "0          arrest_key      object        155507                0           0   \n",
       "16           latitude      object         34210           121297           0   \n",
       "17          longitude      object         34210           121297           0   \n",
       "15         y_coord_cd      object         29300           126207           0   \n",
       "14         x_coord_cd      object         27466           128041           0   \n",
       "6            law_code      object          1005           154502           0   \n",
       "1         arrest_date      object           365           155142           0   \n",
       "2               pd_cd      object           261           155217          29   \n",
       "3             pd_desc      object           242           155162         103   \n",
       "9     arrest_precinct      object            77           155430           0   \n",
       "4               ky_cd      object            67           155337         103   \n",
       "5           ofns_desc      object            64           155340         103   \n",
       "10  jurisdiction_code      object            26           155481           0   \n",
       "13          perp_race      object             7           155500           0   \n",
       "8         arrest_boro      object             5           155502           0   \n",
       "11          age_group      object             5           155502           0   \n",
       "7          law_cat_cd      object             5           154109        1393   \n",
       "12           perp_sex      object             2           155505           0   \n",
       "18    geocoded_column      object           NaN              NaN         NaN   \n",
       "\n",
       "   non_null_values  percent_null  \n",
       "0           155507         0.000  \n",
       "16          155507         0.000  \n",
       "17          155507         0.000  \n",
       "15          155507         0.000  \n",
       "14          155507         0.000  \n",
       "6           155507         0.000  \n",
       "1           155507         0.000  \n",
       "2           155478         0.000  \n",
       "3           155404         0.001  \n",
       "9           155507         0.000  \n",
       "4           155404         0.001  \n",
       "5           155404         0.001  \n",
       "10          155507         0.000  \n",
       "13          155507         0.000  \n",
       "8           155507         0.000  \n",
       "11          155507         0.000  \n",
       "7           154114         0.009  \n",
       "12          155507         0.000  \n",
       "18             NaN           NaN  "
      ]
     },
     "execution_count": 23,
     "metadata": {},
     "output_type": "execute_result"
    }
   ],
   "source": [
    "# view your data profiling dataframe\n",
    "data_profiling_df"
   ]
  },
  {
   "cell_type": "markdown",
   "metadata": {},
   "source": [
    "### Step 5: Data Cleansing"
   ]
  },
  {
   "cell_type": "markdown",
   "metadata": {},
   "source": [
    "1. drop unneeded columns\n",
    "2. drop duplicate rows\n",
    "3. check for outliers"
   ]
  },
  {
   "cell_type": "code",
   "execution_count": 24,
   "metadata": {},
   "outputs": [
    {
     "name": "stdout",
     "output_type": "stream",
     "text": [
      "<class 'pandas.core.frame.DataFrame'>\n",
      "RangeIndex: 155507 entries, 0 to 155506\n",
      "Data columns (total 18 columns):\n",
      " #   Column             Non-Null Count   Dtype \n",
      "---  ------             --------------   ----- \n",
      " 0   arrest_key         155507 non-null  object\n",
      " 1   arrest_date        155507 non-null  object\n",
      " 2   pd_cd              155478 non-null  object\n",
      " 3   pd_desc            155404 non-null  object\n",
      " 4   ky_cd              155404 non-null  object\n",
      " 5   ofns_desc          155404 non-null  object\n",
      " 6   law_code           155507 non-null  object\n",
      " 7   law_cat_cd         154114 non-null  object\n",
      " 8   arrest_boro        155507 non-null  object\n",
      " 9   arrest_precinct    155507 non-null  object\n",
      " 10  jurisdiction_code  155507 non-null  object\n",
      " 11  age_group          155507 non-null  object\n",
      " 12  perp_sex           155507 non-null  object\n",
      " 13  perp_race          155507 non-null  object\n",
      " 14  x_coord_cd         155507 non-null  object\n",
      " 15  y_coord_cd         155507 non-null  object\n",
      " 16  latitude           155507 non-null  object\n",
      " 17  longitude          155507 non-null  object\n",
      "dtypes: object(18)\n",
      "memory usage: 21.4+ MB\n"
     ]
    }
   ],
   "source": [
    "# Run this to look at a list of your columns\n",
    "data.info()"
   ]
  },
  {
   "cell_type": "code",
   "execution_count": 25,
   "metadata": {},
   "outputs": [
    {
     "name": "stdout",
     "output_type": "stream",
     "text": [
      "columns left in dataframe: Index(['arrest_key', 'arrest_date', 'pd_desc', 'ofns_desc', 'law_cat_cd',\n",
      "       'arrest_boro', 'jurisdiction_code', 'age_group', 'perp_sex',\n",
      "       'perp_race', 'latitude', 'longitude'],\n",
      "      dtype='object')\n"
     ]
    }
   ],
   "source": [
    "# ACTION REQUIRED\n",
    "# edit the drop_columns list below to include all the columns you would like to drop\n",
    "# then, run this cell to drop columns\n",
    "\n",
    "drop_columns = [\"ky_cd\",\n",
    "               \"pd_cd\",\n",
    "               \"law_code\",\n",
    "               \"arrest_precinct\",\n",
    "               \"x_coord_cd\",\n",
    "               \"y_coord_cd\"]\n",
    "\n",
    "for column in drop_columns:\n",
    "    try:\n",
    "        data.drop(column, axis = 1, inplace = True)\n",
    "    except:\n",
    "        print(f\"unable to drop {column}\")\n",
    "\n",
    "print(f\"columns left in dataframe: {data.columns}\")"
   ]
  },
  {
   "cell_type": "code",
   "execution_count": 26,
   "metadata": {},
   "outputs": [
    {
     "name": "stdout",
     "output_type": "stream",
     "text": [
      "number of duplicate rows: 0\n"
     ]
    }
   ],
   "source": [
    "# find number of duplicate rows\n",
    "\n",
    "print(f\"number of duplicate rows: {len(data[data.duplicated()])}\")"
   ]
  },
  {
   "cell_type": "code",
   "execution_count": 27,
   "metadata": {},
   "outputs": [
    {
     "name": "stdout",
     "output_type": "stream",
     "text": [
      "number of rows after duplicates dropped: 155507\n"
     ]
    }
   ],
   "source": [
    "# drop duplicate rows based on entire row\n",
    "data = data.drop_duplicates(keep = 'first')\n",
    "\n",
    "# Or, based on a subset of rows, uncomment below and adjust accordingly\n",
    "## data = data.drop_duplicates(subset = [\"subset column\"], keep = 'first')\n",
    "## data = data.drop_duplicates(subset = [\"subset column 1\", \"subset column 2\"], keep = 'first')\n",
    "\n",
    "print(f\"number of rows after duplicates dropped: {len(data)}\")"
   ]
  },
  {
   "cell_type": "code",
   "execution_count": 28,
   "metadata": {},
   "outputs": [
    {
     "name": "stdout",
     "output_type": "stream",
     "text": [
      "<class 'pandas.core.frame.DataFrame'>\n",
      "RangeIndex: 45717 entries, 0 to 45716\n",
      "Data columns (total 17 columns):\n",
      " #   Column                 Non-Null Count  Dtype \n",
      "---  ------                 --------------  ----- \n",
      " 0   summons_key            45717 non-null  object\n",
      " 1   summons_date           45717 non-null  object\n",
      " 2   offense_description    45717 non-null  object\n",
      " 3   law_section_number     45717 non-null  object\n",
      " 4   law_description        33789 non-null  object\n",
      " 5   summons_category_type  33789 non-null  object\n",
      " 6   age_group              45717 non-null  object\n",
      " 7   jurisdiction_code      45717 non-null  object\n",
      " 8   boro                   45717 non-null  object\n",
      " 9   precinct_of_occur      45717 non-null  object\n",
      " 10  sex                    22579 non-null  object\n",
      " 11  race                   22578 non-null  object\n",
      " 12  x_coordinate_cd        45536 non-null  object\n",
      " 13  y_coordinate_cd        45536 non-null  object\n",
      " 14  latitude               45536 non-null  object\n",
      " 15  longitude              45536 non-null  object\n",
      " 16  geocoded_column        45536 non-null  object\n",
      "dtypes: object(17)\n",
      "memory usage: 5.9+ MB\n"
     ]
    }
   ],
   "source": [
    "# Run this to look at a list of your columns\n",
    "data_2.info()"
   ]
  },
  {
   "cell_type": "code",
   "execution_count": 29,
   "metadata": {},
   "outputs": [
    {
     "name": "stdout",
     "output_type": "stream",
     "text": [
      "columns left in dataframe: Index(['summons_key', 'summons_date', 'offense_description', 'law_description',\n",
      "       'summons_category_type', 'age_group', 'jurisdiction_code', 'boro',\n",
      "       'sex', 'race', 'latitude', 'longitude'],\n",
      "      dtype='object')\n"
     ]
    }
   ],
   "source": [
    "# ACTION REQUIRED\n",
    "# edit the drop_columns list below to include all the columns you would like to drop\n",
    "# then, run this cell to drop columns\n",
    "\n",
    "drop_columns = [\"law_section_number\",\n",
    "               \"precinct_of_occur\",\n",
    "               \"x_coordinate_cd\",\n",
    "               \"y_coordinate_cd\",\n",
    "               'geocoded_column']\n",
    "\n",
    "for column in drop_columns:\n",
    "    try:\n",
    "        data_2.drop(column, axis = 1, inplace = True)\n",
    "    except:\n",
    "        print(f\"unable to drop {column}\")\n",
    "\n",
    "print(f\"columns left in dataframe: {data_2.columns}\")"
   ]
  },
  {
   "cell_type": "code",
   "execution_count": 30,
   "metadata": {},
   "outputs": [
    {
     "name": "stdout",
     "output_type": "stream",
     "text": [
      "number of duplicate rows: 0\n"
     ]
    }
   ],
   "source": [
    "# find number of duplicate rows\n",
    "\n",
    "print(f\"number of duplicate rows: {len(data_2[data_2.duplicated()])}\")"
   ]
  },
  {
   "cell_type": "code",
   "execution_count": 31,
   "metadata": {},
   "outputs": [
    {
     "name": "stdout",
     "output_type": "stream",
     "text": [
      "number of rows after duplicates dropped: 45717\n"
     ]
    }
   ],
   "source": [
    "# drop duplicate rows based on entire row\n",
    "data_2 = data_2.drop_duplicates(keep = 'first')\n",
    "\n",
    "# Or, based on a subset of rows, uncomment below and adjust accordingly\n",
    "## data = data.drop_duplicates(subset = [\"subset column\"], keep = 'first')\n",
    "## data = data.drop_duplicates(subset = [\"subset column 1\", \"subset column 2\"], keep = 'first')\n",
    "\n",
    "print(f\"number of rows after duplicates dropped: {len(data_2)}\")"
   ]
  },
  {
   "cell_type": "code",
   "execution_count": 32,
   "metadata": {},
   "outputs": [
    {
     "data": {
      "text/html": [
       "<div>\n",
       "<style scoped>\n",
       "    .dataframe tbody tr th:only-of-type {\n",
       "        vertical-align: middle;\n",
       "    }\n",
       "\n",
       "    .dataframe tbody tr th {\n",
       "        vertical-align: top;\n",
       "    }\n",
       "\n",
       "    .dataframe thead th {\n",
       "        text-align: right;\n",
       "    }\n",
       "</style>\n",
       "<table border=\"1\" class=\"dataframe\">\n",
       "  <thead>\n",
       "    <tr style=\"text-align: right;\">\n",
       "      <th></th>\n",
       "      <th>summons_key</th>\n",
       "      <th>summons_date</th>\n",
       "      <th>offense_description</th>\n",
       "      <th>law_description</th>\n",
       "      <th>summons_category_type</th>\n",
       "      <th>age_group</th>\n",
       "      <th>jurisdiction_code</th>\n",
       "      <th>boro</th>\n",
       "      <th>sex</th>\n",
       "      <th>race</th>\n",
       "      <th>latitude</th>\n",
       "      <th>longitude</th>\n",
       "    </tr>\n",
       "  </thead>\n",
       "  <tbody>\n",
       "    <tr>\n",
       "      <th>0</th>\n",
       "      <td>238410432</td>\n",
       "      <td>2021-12-29T00:00:00.000</td>\n",
       "      <td>FEDERAL MOTOR VEH. SAFETY REG</td>\n",
       "      <td>NYS Transportation</td>\n",
       "      <td>NYS TRANS</td>\n",
       "      <td>UNKNOWN</td>\n",
       "      <td>0</td>\n",
       "      <td>BROOKLYN</td>\n",
       "      <td>NaN</td>\n",
       "      <td>NaN</td>\n",
       "      <td>NaN</td>\n",
       "      <td>NaN</td>\n",
       "    </tr>\n",
       "    <tr>\n",
       "      <th>1</th>\n",
       "      <td>238484459</td>\n",
       "      <td>2021-12-28T00:00:00.000</td>\n",
       "      <td>OBSTRUCTS VEHICULAR OR PEDESTRIAN TRAFFIC</td>\n",
       "      <td>NaN</td>\n",
       "      <td>NaN</td>\n",
       "      <td>45-64</td>\n",
       "      <td>2</td>\n",
       "      <td>BRONX</td>\n",
       "      <td>M</td>\n",
       "      <td>WHITE HISPANIC</td>\n",
       "      <td>NaN</td>\n",
       "      <td>NaN</td>\n",
       "    </tr>\n",
       "    <tr>\n",
       "      <th>2</th>\n",
       "      <td>238325341</td>\n",
       "      <td>2021-12-27T00:00:00.000</td>\n",
       "      <td>FEDERAL MOTOR VEH. SAFETY REG</td>\n",
       "      <td>NYS Transportation</td>\n",
       "      <td>NYS TRANS</td>\n",
       "      <td>UNKNOWN</td>\n",
       "      <td>0</td>\n",
       "      <td>QUEENS</td>\n",
       "      <td>NaN</td>\n",
       "      <td>NaN</td>\n",
       "      <td>NaN</td>\n",
       "      <td>NaN</td>\n",
       "    </tr>\n",
       "    <tr>\n",
       "      <th>3</th>\n",
       "      <td>238309466</td>\n",
       "      <td>2021-12-26T00:00:00.000</td>\n",
       "      <td>RECKLESS DRIVING</td>\n",
       "      <td>VTL</td>\n",
       "      <td>VTL</td>\n",
       "      <td>18-24</td>\n",
       "      <td>0</td>\n",
       "      <td>BROOKLYN</td>\n",
       "      <td>F</td>\n",
       "      <td>WHITE</td>\n",
       "      <td>40.81489234700007</td>\n",
       "      <td>-73.92188087799997</td>\n",
       "    </tr>\n",
       "    <tr>\n",
       "      <th>4</th>\n",
       "      <td>238338883</td>\n",
       "      <td>2021-12-26T00:00:00.000</td>\n",
       "      <td>MOTOR VEHICLE; ENGINE ON/KEY IN IGNITION (THER...</td>\n",
       "      <td>NaN</td>\n",
       "      <td>NaN</td>\n",
       "      <td>25-44</td>\n",
       "      <td>0</td>\n",
       "      <td>BROOKLYN</td>\n",
       "      <td>M</td>\n",
       "      <td>ASIAN / PACIFIC ISLANDER</td>\n",
       "      <td>NaN</td>\n",
       "      <td>NaN</td>\n",
       "    </tr>\n",
       "  </tbody>\n",
       "</table>\n",
       "</div>"
      ],
      "text/plain": [
       "  summons_key             summons_date  \\\n",
       "0   238410432  2021-12-29T00:00:00.000   \n",
       "1   238484459  2021-12-28T00:00:00.000   \n",
       "2   238325341  2021-12-27T00:00:00.000   \n",
       "3   238309466  2021-12-26T00:00:00.000   \n",
       "4   238338883  2021-12-26T00:00:00.000   \n",
       "\n",
       "                                 offense_description     law_description  \\\n",
       "0                      FEDERAL MOTOR VEH. SAFETY REG  NYS Transportation   \n",
       "1          OBSTRUCTS VEHICULAR OR PEDESTRIAN TRAFFIC                 NaN   \n",
       "2                      FEDERAL MOTOR VEH. SAFETY REG  NYS Transportation   \n",
       "3                                   RECKLESS DRIVING                 VTL   \n",
       "4  MOTOR VEHICLE; ENGINE ON/KEY IN IGNITION (THER...                 NaN   \n",
       "\n",
       "  summons_category_type age_group jurisdiction_code      boro  sex  \\\n",
       "0             NYS TRANS   UNKNOWN                 0  BROOKLYN  NaN   \n",
       "1                   NaN     45-64                 2     BRONX    M   \n",
       "2             NYS TRANS   UNKNOWN                 0    QUEENS  NaN   \n",
       "3                   VTL     18-24                 0  BROOKLYN    F   \n",
       "4                   NaN     25-44                 0  BROOKLYN    M   \n",
       "\n",
       "                       race           latitude           longitude  \n",
       "0                       NaN                NaN                 NaN  \n",
       "1            WHITE HISPANIC                NaN                 NaN  \n",
       "2                       NaN                NaN                 NaN  \n",
       "3                     WHITE  40.81489234700007  -73.92188087799997  \n",
       "4  ASIAN / PACIFIC ISLANDER                NaN                 NaN  "
      ]
     },
     "execution_count": 32,
     "metadata": {},
     "output_type": "execute_result"
    }
   ],
   "source": [
    "data_2.head()"
   ]
  },
  {
   "cell_type": "markdown",
   "metadata": {},
   "source": [
    "### Step 4: Create Location Dimension"
   ]
  },
  {
   "cell_type": "code",
   "execution_count": 33,
   "metadata": {},
   "outputs": [],
   "source": [
    "# first, copy the entire table\n",
    "location_dim = data.copy()"
   ]
  },
  {
   "cell_type": "code",
   "execution_count": 34,
   "metadata": {},
   "outputs": [
    {
     "data": {
      "text/plain": [
       "Index(['arrest_key', 'arrest_date', 'pd_desc', 'ofns_desc', 'law_cat_cd',\n",
       "       'arrest_boro', 'jurisdiction_code', 'age_group', 'perp_sex',\n",
       "       'perp_race', 'latitude', 'longitude'],\n",
       "      dtype='object')"
      ]
     },
     "execution_count": 34,
     "metadata": {},
     "output_type": "execute_result"
    }
   ],
   "source": [
    "location_dim.columns"
   ]
  },
  {
   "cell_type": "code",
   "execution_count": 35,
   "metadata": {},
   "outputs": [],
   "source": [
    "# second, subset for only the wanted columns in the dimension\n",
    "location_dim = location_dim[[\"arrest_boro\",\n",
    "                             \"longitude\",\n",
    "                             \"latitude\"]]"
   ]
  },
  {
   "cell_type": "code",
   "execution_count": 36,
   "metadata": {},
   "outputs": [
    {
     "data": {
      "text/html": [
       "<div>\n",
       "<style scoped>\n",
       "    .dataframe tbody tr th:only-of-type {\n",
       "        vertical-align: middle;\n",
       "    }\n",
       "\n",
       "    .dataframe tbody tr th {\n",
       "        vertical-align: top;\n",
       "    }\n",
       "\n",
       "    .dataframe thead th {\n",
       "        text-align: right;\n",
       "    }\n",
       "</style>\n",
       "<table border=\"1\" class=\"dataframe\">\n",
       "  <thead>\n",
       "    <tr style=\"text-align: right;\">\n",
       "      <th></th>\n",
       "      <th>arrest_boro</th>\n",
       "      <th>longitude</th>\n",
       "      <th>latitude</th>\n",
       "    </tr>\n",
       "  </thead>\n",
       "  <tbody>\n",
       "    <tr>\n",
       "      <th>0</th>\n",
       "      <td>Q</td>\n",
       "      <td>-73.73523390399998</td>\n",
       "      <td>40.72618713000002</td>\n",
       "    </tr>\n",
       "    <tr>\n",
       "      <th>1</th>\n",
       "      <td>K</td>\n",
       "      <td>-73.89158591899997</td>\n",
       "      <td>40.63686750900007</td>\n",
       "    </tr>\n",
       "    <tr>\n",
       "      <th>2</th>\n",
       "      <td>B</td>\n",
       "      <td>-73.91036538099996</td>\n",
       "      <td>40.82433953100008</td>\n",
       "    </tr>\n",
       "    <tr>\n",
       "      <th>3</th>\n",
       "      <td>M</td>\n",
       "      <td>-73.94110928599997</td>\n",
       "      <td>40.800694331000045</td>\n",
       "    </tr>\n",
       "    <tr>\n",
       "      <th>4</th>\n",
       "      <td>S</td>\n",
       "      <td>-74.07550839399995</td>\n",
       "      <td>40.625563328000055</td>\n",
       "    </tr>\n",
       "  </tbody>\n",
       "</table>\n",
       "</div>"
      ],
      "text/plain": [
       "  arrest_boro           longitude            latitude\n",
       "0           Q  -73.73523390399998   40.72618713000002\n",
       "1           K  -73.89158591899997   40.63686750900007\n",
       "2           B  -73.91036538099996   40.82433953100008\n",
       "3           M  -73.94110928599997  40.800694331000045\n",
       "4           S  -74.07550839399995  40.625563328000055"
      ]
     },
     "execution_count": 36,
     "metadata": {},
     "output_type": "execute_result"
    }
   ],
   "source": [
    "# third, drop duplicate rows in dimension\n",
    "location_dim = location_dim.drop_duplicates(subset = [\"arrest_boro\"], keep = 'first')\n",
    "location_dim = location_dim.reset_index(drop = True)\n",
    "location_dim.head()"
   ]
  },
  {
   "cell_type": "code",
   "execution_count": 37,
   "metadata": {},
   "outputs": [
    {
     "data": {
      "text/html": [
       "<div>\n",
       "<style scoped>\n",
       "    .dataframe tbody tr th:only-of-type {\n",
       "        vertical-align: middle;\n",
       "    }\n",
       "\n",
       "    .dataframe tbody tr th {\n",
       "        vertical-align: top;\n",
       "    }\n",
       "\n",
       "    .dataframe thead th {\n",
       "        text-align: right;\n",
       "    }\n",
       "</style>\n",
       "<table border=\"1\" class=\"dataframe\">\n",
       "  <thead>\n",
       "    <tr style=\"text-align: right;\">\n",
       "      <th></th>\n",
       "      <th>location_id</th>\n",
       "      <th>arrest_boro</th>\n",
       "      <th>longitude</th>\n",
       "      <th>latitude</th>\n",
       "    </tr>\n",
       "  </thead>\n",
       "  <tbody>\n",
       "    <tr>\n",
       "      <th>0</th>\n",
       "      <td>1000</td>\n",
       "      <td>Q</td>\n",
       "      <td>-73.73523390399998</td>\n",
       "      <td>40.72618713000002</td>\n",
       "    </tr>\n",
       "    <tr>\n",
       "      <th>1</th>\n",
       "      <td>1001</td>\n",
       "      <td>K</td>\n",
       "      <td>-73.89158591899997</td>\n",
       "      <td>40.63686750900007</td>\n",
       "    </tr>\n",
       "    <tr>\n",
       "      <th>2</th>\n",
       "      <td>1002</td>\n",
       "      <td>B</td>\n",
       "      <td>-73.91036538099996</td>\n",
       "      <td>40.82433953100008</td>\n",
       "    </tr>\n",
       "    <tr>\n",
       "      <th>3</th>\n",
       "      <td>1003</td>\n",
       "      <td>M</td>\n",
       "      <td>-73.94110928599997</td>\n",
       "      <td>40.800694331000045</td>\n",
       "    </tr>\n",
       "    <tr>\n",
       "      <th>4</th>\n",
       "      <td>1004</td>\n",
       "      <td>S</td>\n",
       "      <td>-74.07550839399995</td>\n",
       "      <td>40.625563328000055</td>\n",
       "    </tr>\n",
       "  </tbody>\n",
       "</table>\n",
       "</div>"
      ],
      "text/plain": [
       "   location_id arrest_boro           longitude            latitude\n",
       "0         1000           Q  -73.73523390399998   40.72618713000002\n",
       "1         1001           K  -73.89158591899997   40.63686750900007\n",
       "2         1002           B  -73.91036538099996   40.82433953100008\n",
       "3         1003           M  -73.94110928599997  40.800694331000045\n",
       "4         1004           S  -74.07550839399995  40.625563328000055"
      ]
     },
     "execution_count": 37,
     "metadata": {},
     "output_type": "execute_result"
    }
   ],
   "source": [
    "# fourth, add location_id as a surrogate key\n",
    "location_dim.insert(0, 'location_id', range(1000, 1000 + len(location_dim)))\n",
    "location_dim.head()"
   ]
  },
  {
   "cell_type": "code",
   "execution_count": 38,
   "metadata": {},
   "outputs": [
    {
     "data": {
      "text/html": [
       "<div>\n",
       "<style scoped>\n",
       "    .dataframe tbody tr th:only-of-type {\n",
       "        vertical-align: middle;\n",
       "    }\n",
       "\n",
       "    .dataframe tbody tr th {\n",
       "        vertical-align: top;\n",
       "    }\n",
       "\n",
       "    .dataframe thead th {\n",
       "        text-align: right;\n",
       "    }\n",
       "</style>\n",
       "<table border=\"1\" class=\"dataframe\">\n",
       "  <thead>\n",
       "    <tr style=\"text-align: right;\">\n",
       "      <th></th>\n",
       "      <th>arrest_key</th>\n",
       "      <th>arrest_date</th>\n",
       "      <th>pd_desc</th>\n",
       "      <th>ofns_desc</th>\n",
       "      <th>law_cat_cd</th>\n",
       "      <th>arrest_boro</th>\n",
       "      <th>jurisdiction_code</th>\n",
       "      <th>age_group</th>\n",
       "      <th>perp_sex</th>\n",
       "      <th>perp_race</th>\n",
       "      <th>latitude</th>\n",
       "      <th>longitude</th>\n",
       "      <th>location_id</th>\n",
       "    </tr>\n",
       "  </thead>\n",
       "  <tbody>\n",
       "    <tr>\n",
       "      <th>0</th>\n",
       "      <td>238013474</td>\n",
       "      <td>2021-12-18T00:00:00.000</td>\n",
       "      <td>RAPE 1</td>\n",
       "      <td>RAPE</td>\n",
       "      <td>F</td>\n",
       "      <td>Q</td>\n",
       "      <td>97</td>\n",
       "      <td>18-24</td>\n",
       "      <td>M</td>\n",
       "      <td>BLACK</td>\n",
       "      <td>40.72618713000002</td>\n",
       "      <td>-73.73523390399998</td>\n",
       "      <td>1000</td>\n",
       "    </tr>\n",
       "    <tr>\n",
       "      <th>1</th>\n",
       "      <td>236943583</td>\n",
       "      <td>2021-11-25T00:00:00.000</td>\n",
       "      <td>ARSON 2,3,4</td>\n",
       "      <td>ARSON</td>\n",
       "      <td>F</td>\n",
       "      <td>K</td>\n",
       "      <td>71</td>\n",
       "      <td>25-44</td>\n",
       "      <td>M</td>\n",
       "      <td>BLACK</td>\n",
       "      <td>40.63686750900007</td>\n",
       "      <td>-73.89158591899997</td>\n",
       "      <td>1001</td>\n",
       "    </tr>\n",
       "  </tbody>\n",
       "</table>\n",
       "</div>"
      ],
      "text/plain": [
       "  arrest_key              arrest_date      pd_desc ofns_desc law_cat_cd  \\\n",
       "0  238013474  2021-12-18T00:00:00.000       RAPE 1      RAPE          F   \n",
       "1  236943583  2021-11-25T00:00:00.000  ARSON 2,3,4     ARSON          F   \n",
       "\n",
       "  arrest_boro jurisdiction_code age_group perp_sex perp_race  \\\n",
       "0           Q                97     18-24        M     BLACK   \n",
       "1           K                71     25-44        M     BLACK   \n",
       "\n",
       "            latitude           longitude  location_id  \n",
       "0  40.72618713000002  -73.73523390399998         1000  \n",
       "1  40.63686750900007  -73.89158591899997         1001  "
      ]
     },
     "execution_count": 38,
     "metadata": {},
     "output_type": "execute_result"
    }
   ],
   "source": [
    "# fifth, add the location_id to the data table\n",
    "data = data.merge(location_dim[['arrest_boro', 'location_id']],\n",
    "                  left_on = 'arrest_boro',\n",
    "                  right_on = 'arrest_boro',\n",
    "                  how = 'left')\n",
    "\n",
    "data.head(2)"
   ]
  },
  {
   "cell_type": "markdown",
   "metadata": {},
   "source": [
    "### Step 5: Create Age Dimension"
   ]
  },
  {
   "cell_type": "code",
   "execution_count": 39,
   "metadata": {},
   "outputs": [],
   "source": [
    "# first, copy the entire table\n",
    "Age_dim = data.copy()"
   ]
  },
  {
   "cell_type": "code",
   "execution_count": 40,
   "metadata": {},
   "outputs": [
    {
     "data": {
      "text/plain": [
       "Index(['arrest_key', 'arrest_date', 'pd_desc', 'ofns_desc', 'law_cat_cd',\n",
       "       'arrest_boro', 'jurisdiction_code', 'age_group', 'perp_sex',\n",
       "       'perp_race', 'latitude', 'longitude', 'location_id'],\n",
       "      dtype='object')"
      ]
     },
     "execution_count": 40,
     "metadata": {},
     "output_type": "execute_result"
    }
   ],
   "source": [
    "Age_dim.columns"
   ]
  },
  {
   "cell_type": "code",
   "execution_count": 41,
   "metadata": {},
   "outputs": [],
   "source": [
    "# second, subset for only the wanted columns in the dimension\n",
    "Age_dim = Age_dim[[\"age_group\"]]"
   ]
  },
  {
   "cell_type": "code",
   "execution_count": 42,
   "metadata": {},
   "outputs": [
    {
     "data": {
      "text/html": [
       "<div>\n",
       "<style scoped>\n",
       "    .dataframe tbody tr th:only-of-type {\n",
       "        vertical-align: middle;\n",
       "    }\n",
       "\n",
       "    .dataframe tbody tr th {\n",
       "        vertical-align: top;\n",
       "    }\n",
       "\n",
       "    .dataframe thead th {\n",
       "        text-align: right;\n",
       "    }\n",
       "</style>\n",
       "<table border=\"1\" class=\"dataframe\">\n",
       "  <thead>\n",
       "    <tr style=\"text-align: right;\">\n",
       "      <th></th>\n",
       "      <th>age_group</th>\n",
       "    </tr>\n",
       "  </thead>\n",
       "  <tbody>\n",
       "    <tr>\n",
       "      <th>0</th>\n",
       "      <td>18-24</td>\n",
       "    </tr>\n",
       "    <tr>\n",
       "      <th>1</th>\n",
       "      <td>25-44</td>\n",
       "    </tr>\n",
       "    <tr>\n",
       "      <th>2</th>\n",
       "      <td>45-64</td>\n",
       "    </tr>\n",
       "    <tr>\n",
       "      <th>3</th>\n",
       "      <td>65+</td>\n",
       "    </tr>\n",
       "    <tr>\n",
       "      <th>4</th>\n",
       "      <td>&lt;18</td>\n",
       "    </tr>\n",
       "  </tbody>\n",
       "</table>\n",
       "</div>"
      ],
      "text/plain": [
       "  age_group\n",
       "0     18-24\n",
       "1     25-44\n",
       "2     45-64\n",
       "3       65+\n",
       "4       <18"
      ]
     },
     "execution_count": 42,
     "metadata": {},
     "output_type": "execute_result"
    }
   ],
   "source": [
    "# third, drop duplicate rows in dimension\n",
    "Age_dim = Age_dim.drop_duplicates(subset = [\"age_group\"], keep = 'first')\n",
    "Age_dim = Age_dim.reset_index(drop = True)\n",
    "Age_dim.head()"
   ]
  },
  {
   "cell_type": "code",
   "execution_count": 43,
   "metadata": {},
   "outputs": [
    {
     "data": {
      "text/html": [
       "<div>\n",
       "<style scoped>\n",
       "    .dataframe tbody tr th:only-of-type {\n",
       "        vertical-align: middle;\n",
       "    }\n",
       "\n",
       "    .dataframe tbody tr th {\n",
       "        vertical-align: top;\n",
       "    }\n",
       "\n",
       "    .dataframe thead th {\n",
       "        text-align: right;\n",
       "    }\n",
       "</style>\n",
       "<table border=\"1\" class=\"dataframe\">\n",
       "  <thead>\n",
       "    <tr style=\"text-align: right;\">\n",
       "      <th></th>\n",
       "      <th>age_id</th>\n",
       "      <th>age_group</th>\n",
       "    </tr>\n",
       "  </thead>\n",
       "  <tbody>\n",
       "    <tr>\n",
       "      <th>0</th>\n",
       "      <td>10</td>\n",
       "      <td>18-24</td>\n",
       "    </tr>\n",
       "    <tr>\n",
       "      <th>1</th>\n",
       "      <td>11</td>\n",
       "      <td>25-44</td>\n",
       "    </tr>\n",
       "    <tr>\n",
       "      <th>2</th>\n",
       "      <td>12</td>\n",
       "      <td>45-64</td>\n",
       "    </tr>\n",
       "    <tr>\n",
       "      <th>3</th>\n",
       "      <td>13</td>\n",
       "      <td>65+</td>\n",
       "    </tr>\n",
       "    <tr>\n",
       "      <th>4</th>\n",
       "      <td>14</td>\n",
       "      <td>&lt;18</td>\n",
       "    </tr>\n",
       "  </tbody>\n",
       "</table>\n",
       "</div>"
      ],
      "text/plain": [
       "   age_id age_group\n",
       "0      10     18-24\n",
       "1      11     25-44\n",
       "2      12     45-64\n",
       "3      13       65+\n",
       "4      14       <18"
      ]
     },
     "execution_count": 43,
     "metadata": {},
     "output_type": "execute_result"
    }
   ],
   "source": [
    "# fourth, add age_id as a surrogate key\n",
    "Age_dim.insert(0, 'age_id', range(10, 10 + len(Age_dim)))\n",
    "Age_dim.head()"
   ]
  },
  {
   "cell_type": "code",
   "execution_count": 44,
   "metadata": {},
   "outputs": [
    {
     "data": {
      "text/html": [
       "<div>\n",
       "<style scoped>\n",
       "    .dataframe tbody tr th:only-of-type {\n",
       "        vertical-align: middle;\n",
       "    }\n",
       "\n",
       "    .dataframe tbody tr th {\n",
       "        vertical-align: top;\n",
       "    }\n",
       "\n",
       "    .dataframe thead th {\n",
       "        text-align: right;\n",
       "    }\n",
       "</style>\n",
       "<table border=\"1\" class=\"dataframe\">\n",
       "  <thead>\n",
       "    <tr style=\"text-align: right;\">\n",
       "      <th></th>\n",
       "      <th>arrest_key</th>\n",
       "      <th>arrest_date</th>\n",
       "      <th>pd_desc</th>\n",
       "      <th>ofns_desc</th>\n",
       "      <th>law_cat_cd</th>\n",
       "      <th>arrest_boro</th>\n",
       "      <th>jurisdiction_code</th>\n",
       "      <th>age_group</th>\n",
       "      <th>perp_sex</th>\n",
       "      <th>perp_race</th>\n",
       "      <th>latitude</th>\n",
       "      <th>longitude</th>\n",
       "      <th>location_id</th>\n",
       "      <th>age_id</th>\n",
       "    </tr>\n",
       "  </thead>\n",
       "  <tbody>\n",
       "    <tr>\n",
       "      <th>0</th>\n",
       "      <td>238013474</td>\n",
       "      <td>2021-12-18T00:00:00.000</td>\n",
       "      <td>RAPE 1</td>\n",
       "      <td>RAPE</td>\n",
       "      <td>F</td>\n",
       "      <td>Q</td>\n",
       "      <td>97</td>\n",
       "      <td>18-24</td>\n",
       "      <td>M</td>\n",
       "      <td>BLACK</td>\n",
       "      <td>40.72618713000002</td>\n",
       "      <td>-73.73523390399998</td>\n",
       "      <td>1000</td>\n",
       "      <td>10</td>\n",
       "    </tr>\n",
       "    <tr>\n",
       "      <th>1</th>\n",
       "      <td>236943583</td>\n",
       "      <td>2021-11-25T00:00:00.000</td>\n",
       "      <td>ARSON 2,3,4</td>\n",
       "      <td>ARSON</td>\n",
       "      <td>F</td>\n",
       "      <td>K</td>\n",
       "      <td>71</td>\n",
       "      <td>25-44</td>\n",
       "      <td>M</td>\n",
       "      <td>BLACK</td>\n",
       "      <td>40.63686750900007</td>\n",
       "      <td>-73.89158591899997</td>\n",
       "      <td>1001</td>\n",
       "      <td>11</td>\n",
       "    </tr>\n",
       "  </tbody>\n",
       "</table>\n",
       "</div>"
      ],
      "text/plain": [
       "  arrest_key              arrest_date      pd_desc ofns_desc law_cat_cd  \\\n",
       "0  238013474  2021-12-18T00:00:00.000       RAPE 1      RAPE          F   \n",
       "1  236943583  2021-11-25T00:00:00.000  ARSON 2,3,4     ARSON          F   \n",
       "\n",
       "  arrest_boro jurisdiction_code age_group perp_sex perp_race  \\\n",
       "0           Q                97     18-24        M     BLACK   \n",
       "1           K                71     25-44        M     BLACK   \n",
       "\n",
       "            latitude           longitude  location_id  age_id  \n",
       "0  40.72618713000002  -73.73523390399998         1000      10  \n",
       "1  40.63686750900007  -73.89158591899997         1001      11  "
      ]
     },
     "execution_count": 44,
     "metadata": {},
     "output_type": "execute_result"
    }
   ],
   "source": [
    "# fifth, add the age_id to the Fact table\n",
    "data = data.merge(Age_dim[['age_group', 'age_id']],\n",
    "                  left_on = 'age_group',\n",
    "                  right_on = 'age_group',\n",
    "                  how = 'left')\n",
    "\n",
    "data.head(2)"
   ]
  },
  {
   "cell_type": "markdown",
   "metadata": {},
   "source": [
    "### Step 6: Create Date Dimension"
   ]
  },
  {
   "cell_type": "code",
   "execution_count": 45,
   "metadata": {},
   "outputs": [
    {
     "name": "stdout",
     "output_type": "stream",
     "text": [
      "date dimension created successfully, shape of dimension: (367, 7)\n"
     ]
    }
   ],
   "source": [
    "## ACTION REQUIRED: update the start and end date at the bottom of the sql_query variable to fit your needs\n",
    "\n",
    "sql_query = \"\"\"\n",
    "            SELECT\n",
    "              CONCAT (FORMAT_DATE(\"%Y\",d),FORMAT_DATE(\"%m\",d),FORMAT_DATE(\"%d\",d)) as date_id,\n",
    "              d AS full_date,\n",
    "              FORMAT_DATE('%w', d) AS week_day,\n",
    "              FORMAT_DATE('%A', d) AS day_name,\n",
    "              FORMAT_DATE('%B', d) as month_name,\n",
    "              FORMAT_DATE('%Q', d) as fiscal_qtr,\n",
    "              FORMAT_DATE('%Y', d) AS year,\n",
    "            FROM (\n",
    "              SELECT\n",
    "                *\n",
    "              FROM\n",
    "                UNNEST(GENERATE_DATE_ARRAY('2020-12-31', '2022-01-01', INTERVAL 1 DAY)) AS d )\n",
    "            \"\"\"\n",
    "\n",
    "# store extracted data in new dataframe\n",
    "date_dim = bigquery_client.query(sql_query).to_dataframe()\n",
    "\n",
    "# validate that > 0 rows have been extracted and return dataframe\n",
    "if len(date_dim) > 0:\n",
    "    print(f\"date dimension created successfully, shape of dimension: {date_dim.shape}\")\n",
    "else:\n",
    "    print(\"date dimension FAILED\")"
   ]
  },
  {
   "cell_type": "code",
   "execution_count": 46,
   "metadata": {},
   "outputs": [],
   "source": [
    "# create date_id column in the Fact Table\n",
    "data['date_id'] = data['arrest_date'].apply(lambda x: pd.to_datetime(x).strftime(\"%Y%m%d\"))"
   ]
  },
  {
   "cell_type": "markdown",
   "metadata": {},
   "source": [
    "### Create Type Dimension"
   ]
  },
  {
   "cell_type": "code",
   "execution_count": 47,
   "metadata": {},
   "outputs": [],
   "source": [
    "Type_dim = data.copy()"
   ]
  },
  {
   "cell_type": "code",
   "execution_count": 48,
   "metadata": {},
   "outputs": [
    {
     "data": {
      "text/plain": [
       "Index(['arrest_key', 'arrest_date', 'pd_desc', 'ofns_desc', 'law_cat_cd',\n",
       "       'arrest_boro', 'jurisdiction_code', 'age_group', 'perp_sex',\n",
       "       'perp_race', 'latitude', 'longitude', 'location_id', 'age_id',\n",
       "       'date_id'],\n",
       "      dtype='object')"
      ]
     },
     "execution_count": 48,
     "metadata": {},
     "output_type": "execute_result"
    }
   ],
   "source": [
    "Type_dim.columns"
   ]
  },
  {
   "cell_type": "code",
   "execution_count": 49,
   "metadata": {},
   "outputs": [],
   "source": [
    "Type_dim = Type_dim[[\"pd_desc\",\n",
    "                    \"ofns_desc\"]]"
   ]
  },
  {
   "cell_type": "code",
   "execution_count": 50,
   "metadata": {},
   "outputs": [
    {
     "data": {
      "text/html": [
       "<div>\n",
       "<style scoped>\n",
       "    .dataframe tbody tr th:only-of-type {\n",
       "        vertical-align: middle;\n",
       "    }\n",
       "\n",
       "    .dataframe tbody tr th {\n",
       "        vertical-align: top;\n",
       "    }\n",
       "\n",
       "    .dataframe thead th {\n",
       "        text-align: right;\n",
       "    }\n",
       "</style>\n",
       "<table border=\"1\" class=\"dataframe\">\n",
       "  <thead>\n",
       "    <tr style=\"text-align: right;\">\n",
       "      <th></th>\n",
       "      <th>pd_desc</th>\n",
       "      <th>ofns_desc</th>\n",
       "    </tr>\n",
       "  </thead>\n",
       "  <tbody>\n",
       "    <tr>\n",
       "      <th>0</th>\n",
       "      <td>RAPE 1</td>\n",
       "      <td>RAPE</td>\n",
       "    </tr>\n",
       "    <tr>\n",
       "      <th>1</th>\n",
       "      <td>ARSON 2,3,4</td>\n",
       "      <td>ARSON</td>\n",
       "    </tr>\n",
       "    <tr>\n",
       "      <th>2</th>\n",
       "      <td>OBSCENITY 1</td>\n",
       "      <td>SEX CRIMES</td>\n",
       "    </tr>\n",
       "    <tr>\n",
       "      <th>3</th>\n",
       "      <td>NaN</td>\n",
       "      <td>NaN</td>\n",
       "    </tr>\n",
       "    <tr>\n",
       "      <th>4</th>\n",
       "      <td>ASSAULT 3</td>\n",
       "      <td>ASSAULT 3 &amp; RELATED OFFENSES</td>\n",
       "    </tr>\n",
       "  </tbody>\n",
       "</table>\n",
       "</div>"
      ],
      "text/plain": [
       "       pd_desc                     ofns_desc\n",
       "0       RAPE 1                          RAPE\n",
       "1  ARSON 2,3,4                         ARSON\n",
       "2  OBSCENITY 1                    SEX CRIMES\n",
       "3          NaN                           NaN\n",
       "4    ASSAULT 3  ASSAULT 3 & RELATED OFFENSES"
      ]
     },
     "execution_count": 50,
     "metadata": {},
     "output_type": "execute_result"
    }
   ],
   "source": [
    "Type_dim = Type_dim.drop_duplicates(subset = [\"ofns_desc\"], keep = 'first')\n",
    "Type_dim = Type_dim.reset_index(drop = True)\n",
    "Type_dim.head()"
   ]
  },
  {
   "cell_type": "code",
   "execution_count": 51,
   "metadata": {},
   "outputs": [
    {
     "data": {
      "text/html": [
       "<div>\n",
       "<style scoped>\n",
       "    .dataframe tbody tr th:only-of-type {\n",
       "        vertical-align: middle;\n",
       "    }\n",
       "\n",
       "    .dataframe tbody tr th {\n",
       "        vertical-align: top;\n",
       "    }\n",
       "\n",
       "    .dataframe thead th {\n",
       "        text-align: right;\n",
       "    }\n",
       "</style>\n",
       "<table border=\"1\" class=\"dataframe\">\n",
       "  <thead>\n",
       "    <tr style=\"text-align: right;\">\n",
       "      <th></th>\n",
       "      <th>type_id</th>\n",
       "      <th>pd_desc</th>\n",
       "      <th>ofns_desc</th>\n",
       "    </tr>\n",
       "  </thead>\n",
       "  <tbody>\n",
       "    <tr>\n",
       "      <th>0</th>\n",
       "      <td>1</td>\n",
       "      <td>RAPE 1</td>\n",
       "      <td>RAPE</td>\n",
       "    </tr>\n",
       "    <tr>\n",
       "      <th>1</th>\n",
       "      <td>2</td>\n",
       "      <td>ARSON 2,3,4</td>\n",
       "      <td>ARSON</td>\n",
       "    </tr>\n",
       "    <tr>\n",
       "      <th>2</th>\n",
       "      <td>3</td>\n",
       "      <td>OBSCENITY 1</td>\n",
       "      <td>SEX CRIMES</td>\n",
       "    </tr>\n",
       "    <tr>\n",
       "      <th>3</th>\n",
       "      <td>4</td>\n",
       "      <td>NaN</td>\n",
       "      <td>NaN</td>\n",
       "    </tr>\n",
       "    <tr>\n",
       "      <th>4</th>\n",
       "      <td>5</td>\n",
       "      <td>ASSAULT 3</td>\n",
       "      <td>ASSAULT 3 &amp; RELATED OFFENSES</td>\n",
       "    </tr>\n",
       "  </tbody>\n",
       "</table>\n",
       "</div>"
      ],
      "text/plain": [
       "   type_id      pd_desc                     ofns_desc\n",
       "0        1       RAPE 1                          RAPE\n",
       "1        2  ARSON 2,3,4                         ARSON\n",
       "2        3  OBSCENITY 1                    SEX CRIMES\n",
       "3        4          NaN                           NaN\n",
       "4        5    ASSAULT 3  ASSAULT 3 & RELATED OFFENSES"
      ]
     },
     "execution_count": 51,
     "metadata": {},
     "output_type": "execute_result"
    }
   ],
   "source": [
    "Type_dim.insert(0, 'type_id', range(1, 1 + len(Type_dim)))\n",
    "Type_dim.head()"
   ]
  },
  {
   "cell_type": "code",
   "execution_count": 52,
   "metadata": {},
   "outputs": [
    {
     "data": {
      "text/html": [
       "<div>\n",
       "<style scoped>\n",
       "    .dataframe tbody tr th:only-of-type {\n",
       "        vertical-align: middle;\n",
       "    }\n",
       "\n",
       "    .dataframe tbody tr th {\n",
       "        vertical-align: top;\n",
       "    }\n",
       "\n",
       "    .dataframe thead th {\n",
       "        text-align: right;\n",
       "    }\n",
       "</style>\n",
       "<table border=\"1\" class=\"dataframe\">\n",
       "  <thead>\n",
       "    <tr style=\"text-align: right;\">\n",
       "      <th></th>\n",
       "      <th>arrest_key</th>\n",
       "      <th>arrest_date</th>\n",
       "      <th>pd_desc</th>\n",
       "      <th>ofns_desc</th>\n",
       "      <th>law_cat_cd</th>\n",
       "      <th>arrest_boro</th>\n",
       "      <th>jurisdiction_code</th>\n",
       "      <th>age_group</th>\n",
       "      <th>perp_sex</th>\n",
       "      <th>perp_race</th>\n",
       "      <th>latitude</th>\n",
       "      <th>longitude</th>\n",
       "      <th>location_id</th>\n",
       "      <th>age_id</th>\n",
       "      <th>date_id</th>\n",
       "      <th>type_id</th>\n",
       "    </tr>\n",
       "  </thead>\n",
       "  <tbody>\n",
       "    <tr>\n",
       "      <th>0</th>\n",
       "      <td>238013474</td>\n",
       "      <td>2021-12-18T00:00:00.000</td>\n",
       "      <td>RAPE 1</td>\n",
       "      <td>RAPE</td>\n",
       "      <td>F</td>\n",
       "      <td>Q</td>\n",
       "      <td>97</td>\n",
       "      <td>18-24</td>\n",
       "      <td>M</td>\n",
       "      <td>BLACK</td>\n",
       "      <td>40.72618713000002</td>\n",
       "      <td>-73.73523390399998</td>\n",
       "      <td>1000</td>\n",
       "      <td>10</td>\n",
       "      <td>20211218</td>\n",
       "      <td>1</td>\n",
       "    </tr>\n",
       "    <tr>\n",
       "      <th>1</th>\n",
       "      <td>236943583</td>\n",
       "      <td>2021-11-25T00:00:00.000</td>\n",
       "      <td>ARSON 2,3,4</td>\n",
       "      <td>ARSON</td>\n",
       "      <td>F</td>\n",
       "      <td>K</td>\n",
       "      <td>71</td>\n",
       "      <td>25-44</td>\n",
       "      <td>M</td>\n",
       "      <td>BLACK</td>\n",
       "      <td>40.63686750900007</td>\n",
       "      <td>-73.89158591899997</td>\n",
       "      <td>1001</td>\n",
       "      <td>11</td>\n",
       "      <td>20211125</td>\n",
       "      <td>2</td>\n",
       "    </tr>\n",
       "  </tbody>\n",
       "</table>\n",
       "</div>"
      ],
      "text/plain": [
       "  arrest_key              arrest_date      pd_desc ofns_desc law_cat_cd  \\\n",
       "0  238013474  2021-12-18T00:00:00.000       RAPE 1      RAPE          F   \n",
       "1  236943583  2021-11-25T00:00:00.000  ARSON 2,3,4     ARSON          F   \n",
       "\n",
       "  arrest_boro jurisdiction_code age_group perp_sex perp_race  \\\n",
       "0           Q                97     18-24        M     BLACK   \n",
       "1           K                71     25-44        M     BLACK   \n",
       "\n",
       "            latitude           longitude  location_id  age_id   date_id  \\\n",
       "0  40.72618713000002  -73.73523390399998         1000      10  20211218   \n",
       "1  40.63686750900007  -73.89158591899997         1001      11  20211125   \n",
       "\n",
       "   type_id  \n",
       "0        1  \n",
       "1        2  "
      ]
     },
     "execution_count": 52,
     "metadata": {},
     "output_type": "execute_result"
    }
   ],
   "source": [
    "data = data.merge(Type_dim[['ofns_desc', 'type_id']],\n",
    "                  left_on = 'ofns_desc',\n",
    "                  right_on = 'ofns_desc',\n",
    "                  how = 'left')\n",
    "\n",
    "data.head(2)"
   ]
  },
  {
   "cell_type": "markdown",
   "metadata": {},
   "source": [
    "### Step 5: Creating Fact(s)"
   ]
  },
  {
   "cell_type": "code",
   "execution_count": 53,
   "metadata": {},
   "outputs": [],
   "source": [
    "# Creating Fact Table\n",
    "\n",
    "# creating a copy of the data table\n",
    "fact_table = data.copy()\n"
   ]
  },
  {
   "cell_type": "code",
   "execution_count": 54,
   "metadata": {},
   "outputs": [
    {
     "data": {
      "text/html": [
       "<div>\n",
       "<style scoped>\n",
       "    .dataframe tbody tr th:only-of-type {\n",
       "        vertical-align: middle;\n",
       "    }\n",
       "\n",
       "    .dataframe tbody tr th {\n",
       "        vertical-align: top;\n",
       "    }\n",
       "\n",
       "    .dataframe thead th {\n",
       "        text-align: right;\n",
       "    }\n",
       "</style>\n",
       "<table border=\"1\" class=\"dataframe\">\n",
       "  <thead>\n",
       "    <tr style=\"text-align: right;\">\n",
       "      <th></th>\n",
       "      <th>summons_key</th>\n",
       "      <th>summons_date</th>\n",
       "      <th>offense_description</th>\n",
       "      <th>law_description</th>\n",
       "      <th>summons_category_type</th>\n",
       "      <th>age_group</th>\n",
       "      <th>jurisdiction_code</th>\n",
       "      <th>boro</th>\n",
       "      <th>sex</th>\n",
       "      <th>race</th>\n",
       "      <th>latitude</th>\n",
       "      <th>longitude</th>\n",
       "    </tr>\n",
       "  </thead>\n",
       "  <tbody>\n",
       "    <tr>\n",
       "      <th>0</th>\n",
       "      <td>238410432</td>\n",
       "      <td>2021-12-29T00:00:00.000</td>\n",
       "      <td>FEDERAL MOTOR VEH. SAFETY REG</td>\n",
       "      <td>NYS Transportation</td>\n",
       "      <td>NYS TRANS</td>\n",
       "      <td>UNKNOWN</td>\n",
       "      <td>0</td>\n",
       "      <td>BROOKLYN</td>\n",
       "      <td>NaN</td>\n",
       "      <td>NaN</td>\n",
       "      <td>NaN</td>\n",
       "      <td>NaN</td>\n",
       "    </tr>\n",
       "    <tr>\n",
       "      <th>1</th>\n",
       "      <td>238484459</td>\n",
       "      <td>2021-12-28T00:00:00.000</td>\n",
       "      <td>OBSTRUCTS VEHICULAR OR PEDESTRIAN TRAFFIC</td>\n",
       "      <td>NaN</td>\n",
       "      <td>NaN</td>\n",
       "      <td>45-64</td>\n",
       "      <td>2</td>\n",
       "      <td>BRONX</td>\n",
       "      <td>M</td>\n",
       "      <td>WHITE HISPANIC</td>\n",
       "      <td>NaN</td>\n",
       "      <td>NaN</td>\n",
       "    </tr>\n",
       "    <tr>\n",
       "      <th>2</th>\n",
       "      <td>238325341</td>\n",
       "      <td>2021-12-27T00:00:00.000</td>\n",
       "      <td>FEDERAL MOTOR VEH. SAFETY REG</td>\n",
       "      <td>NYS Transportation</td>\n",
       "      <td>NYS TRANS</td>\n",
       "      <td>UNKNOWN</td>\n",
       "      <td>0</td>\n",
       "      <td>QUEENS</td>\n",
       "      <td>NaN</td>\n",
       "      <td>NaN</td>\n",
       "      <td>NaN</td>\n",
       "      <td>NaN</td>\n",
       "    </tr>\n",
       "    <tr>\n",
       "      <th>3</th>\n",
       "      <td>238309466</td>\n",
       "      <td>2021-12-26T00:00:00.000</td>\n",
       "      <td>RECKLESS DRIVING</td>\n",
       "      <td>VTL</td>\n",
       "      <td>VTL</td>\n",
       "      <td>18-24</td>\n",
       "      <td>0</td>\n",
       "      <td>BROOKLYN</td>\n",
       "      <td>F</td>\n",
       "      <td>WHITE</td>\n",
       "      <td>40.81489234700007</td>\n",
       "      <td>-73.92188087799997</td>\n",
       "    </tr>\n",
       "    <tr>\n",
       "      <th>4</th>\n",
       "      <td>238338883</td>\n",
       "      <td>2021-12-26T00:00:00.000</td>\n",
       "      <td>MOTOR VEHICLE; ENGINE ON/KEY IN IGNITION (THER...</td>\n",
       "      <td>NaN</td>\n",
       "      <td>NaN</td>\n",
       "      <td>25-44</td>\n",
       "      <td>0</td>\n",
       "      <td>BROOKLYN</td>\n",
       "      <td>M</td>\n",
       "      <td>ASIAN / PACIFIC ISLANDER</td>\n",
       "      <td>NaN</td>\n",
       "      <td>NaN</td>\n",
       "    </tr>\n",
       "  </tbody>\n",
       "</table>\n",
       "</div>"
      ],
      "text/plain": [
       "  summons_key             summons_date  \\\n",
       "0   238410432  2021-12-29T00:00:00.000   \n",
       "1   238484459  2021-12-28T00:00:00.000   \n",
       "2   238325341  2021-12-27T00:00:00.000   \n",
       "3   238309466  2021-12-26T00:00:00.000   \n",
       "4   238338883  2021-12-26T00:00:00.000   \n",
       "\n",
       "                                 offense_description     law_description  \\\n",
       "0                      FEDERAL MOTOR VEH. SAFETY REG  NYS Transportation   \n",
       "1          OBSTRUCTS VEHICULAR OR PEDESTRIAN TRAFFIC                 NaN   \n",
       "2                      FEDERAL MOTOR VEH. SAFETY REG  NYS Transportation   \n",
       "3                                   RECKLESS DRIVING                 VTL   \n",
       "4  MOTOR VEHICLE; ENGINE ON/KEY IN IGNITION (THER...                 NaN   \n",
       "\n",
       "  summons_category_type age_group jurisdiction_code      boro  sex  \\\n",
       "0             NYS TRANS   UNKNOWN                 0  BROOKLYN  NaN   \n",
       "1                   NaN     45-64                 2     BRONX    M   \n",
       "2             NYS TRANS   UNKNOWN                 0    QUEENS  NaN   \n",
       "3                   VTL     18-24                 0  BROOKLYN    F   \n",
       "4                   NaN     25-44                 0  BROOKLYN    M   \n",
       "\n",
       "                       race           latitude           longitude  \n",
       "0                       NaN                NaN                 NaN  \n",
       "1            WHITE HISPANIC                NaN                 NaN  \n",
       "2                       NaN                NaN                 NaN  \n",
       "3                     WHITE  40.81489234700007  -73.92188087799997  \n",
       "4  ASIAN / PACIFIC ISLANDER                NaN                 NaN  "
      ]
     },
     "execution_count": 54,
     "metadata": {},
     "output_type": "execute_result"
    }
   ],
   "source": [
    "data_2.head()"
   ]
  },
  {
   "cell_type": "code",
   "execution_count": 55,
   "metadata": {},
   "outputs": [
    {
     "data": {
      "text/html": [
       "<div>\n",
       "<style scoped>\n",
       "    .dataframe tbody tr th:only-of-type {\n",
       "        vertical-align: middle;\n",
       "    }\n",
       "\n",
       "    .dataframe tbody tr th {\n",
       "        vertical-align: top;\n",
       "    }\n",
       "\n",
       "    .dataframe thead th {\n",
       "        text-align: right;\n",
       "    }\n",
       "</style>\n",
       "<table border=\"1\" class=\"dataframe\">\n",
       "  <thead>\n",
       "    <tr style=\"text-align: right;\">\n",
       "      <th></th>\n",
       "      <th>arrest_key</th>\n",
       "      <th>arrest_date</th>\n",
       "      <th>pd_desc</th>\n",
       "      <th>ofns_desc</th>\n",
       "      <th>law_cat_cd</th>\n",
       "      <th>arrest_boro</th>\n",
       "      <th>jurisdiction_code</th>\n",
       "      <th>age_group</th>\n",
       "      <th>perp_sex</th>\n",
       "      <th>perp_race</th>\n",
       "      <th>latitude</th>\n",
       "      <th>longitude</th>\n",
       "      <th>location_id</th>\n",
       "      <th>age_id</th>\n",
       "      <th>date_id</th>\n",
       "      <th>type_id</th>\n",
       "      <th>summons_date</th>\n",
       "      <th>summons_key</th>\n",
       "    </tr>\n",
       "  </thead>\n",
       "  <tbody>\n",
       "    <tr>\n",
       "      <th>0</th>\n",
       "      <td>238418805</td>\n",
       "      <td>2021-12-29T00:00:00.000</td>\n",
       "      <td>ASSAULT 3</td>\n",
       "      <td>ASSAULT 3 &amp; RELATED OFFENSES</td>\n",
       "      <td>M</td>\n",
       "      <td>Q</td>\n",
       "      <td>0</td>\n",
       "      <td>25-44</td>\n",
       "      <td>M</td>\n",
       "      <td>WHITE HISPANIC</td>\n",
       "      <td>40.73828726100004</td>\n",
       "      <td>-73.91872662599997</td>\n",
       "      <td>1000</td>\n",
       "      <td>11</td>\n",
       "      <td>20211229</td>\n",
       "      <td>5</td>\n",
       "      <td>2021-12-29T00:00:00.000</td>\n",
       "      <td>238410432</td>\n",
       "    </tr>\n",
       "    <tr>\n",
       "      <th>1</th>\n",
       "      <td>238395969</td>\n",
       "      <td>2021-12-29T00:00:00.000</td>\n",
       "      <td>UNAUTHORIZED USE VEHICLE 3</td>\n",
       "      <td>UNAUTHORIZED USE OF A VEHICLE</td>\n",
       "      <td>M</td>\n",
       "      <td>M</td>\n",
       "      <td>0</td>\n",
       "      <td>25-44</td>\n",
       "      <td>M</td>\n",
       "      <td>WHITE</td>\n",
       "      <td>40.752856835000046</td>\n",
       "      <td>-73.97146620999997</td>\n",
       "      <td>1003</td>\n",
       "      <td>11</td>\n",
       "      <td>20211229</td>\n",
       "      <td>24</td>\n",
       "      <td>2021-12-29T00:00:00.000</td>\n",
       "      <td>238410432</td>\n",
       "    </tr>\n",
       "    <tr>\n",
       "      <th>2</th>\n",
       "      <td>238405159</td>\n",
       "      <td>2021-12-29T00:00:00.000</td>\n",
       "      <td>ASSAULT 3</td>\n",
       "      <td>ASSAULT 3 &amp; RELATED OFFENSES</td>\n",
       "      <td>M</td>\n",
       "      <td>B</td>\n",
       "      <td>0</td>\n",
       "      <td>25-44</td>\n",
       "      <td>F</td>\n",
       "      <td>BLACK</td>\n",
       "      <td>40.82449489700008</td>\n",
       "      <td>-73.91252947799995</td>\n",
       "      <td>1002</td>\n",
       "      <td>11</td>\n",
       "      <td>20211229</td>\n",
       "      <td>5</td>\n",
       "      <td>2021-12-29T00:00:00.000</td>\n",
       "      <td>238410432</td>\n",
       "    </tr>\n",
       "    <tr>\n",
       "      <th>3</th>\n",
       "      <td>238413491</td>\n",
       "      <td>2021-12-29T00:00:00.000</td>\n",
       "      <td>ASSAULT 3</td>\n",
       "      <td>ASSAULT 3 &amp; RELATED OFFENSES</td>\n",
       "      <td>M</td>\n",
       "      <td>B</td>\n",
       "      <td>0</td>\n",
       "      <td>25-44</td>\n",
       "      <td>M</td>\n",
       "      <td>WHITE HISPANIC</td>\n",
       "      <td>40.86099660100007</td>\n",
       "      <td>-73.90533786599997</td>\n",
       "      <td>1002</td>\n",
       "      <td>11</td>\n",
       "      <td>20211229</td>\n",
       "      <td>5</td>\n",
       "      <td>2021-12-29T00:00:00.000</td>\n",
       "      <td>238410432</td>\n",
       "    </tr>\n",
       "    <tr>\n",
       "      <th>4</th>\n",
       "      <td>238405174</td>\n",
       "      <td>2021-12-29T00:00:00.000</td>\n",
       "      <td>MENACING,UNCLASSIFIED</td>\n",
       "      <td>ASSAULT 3 &amp; RELATED OFFENSES</td>\n",
       "      <td>M</td>\n",
       "      <td>S</td>\n",
       "      <td>0</td>\n",
       "      <td>45-64</td>\n",
       "      <td>M</td>\n",
       "      <td>WHITE</td>\n",
       "      <td>40.52938190900005</td>\n",
       "      <td>-74.16135242599995</td>\n",
       "      <td>1004</td>\n",
       "      <td>12</td>\n",
       "      <td>20211229</td>\n",
       "      <td>5</td>\n",
       "      <td>2021-12-29T00:00:00.000</td>\n",
       "      <td>238410432</td>\n",
       "    </tr>\n",
       "  </tbody>\n",
       "</table>\n",
       "</div>"
      ],
      "text/plain": [
       "  arrest_key              arrest_date                     pd_desc  \\\n",
       "0  238418805  2021-12-29T00:00:00.000                   ASSAULT 3   \n",
       "1  238395969  2021-12-29T00:00:00.000  UNAUTHORIZED USE VEHICLE 3   \n",
       "2  238405159  2021-12-29T00:00:00.000                   ASSAULT 3   \n",
       "3  238413491  2021-12-29T00:00:00.000                   ASSAULT 3   \n",
       "4  238405174  2021-12-29T00:00:00.000       MENACING,UNCLASSIFIED   \n",
       "\n",
       "                       ofns_desc law_cat_cd arrest_boro jurisdiction_code  \\\n",
       "0   ASSAULT 3 & RELATED OFFENSES          M           Q                 0   \n",
       "1  UNAUTHORIZED USE OF A VEHICLE          M           M                 0   \n",
       "2   ASSAULT 3 & RELATED OFFENSES          M           B                 0   \n",
       "3   ASSAULT 3 & RELATED OFFENSES          M           B                 0   \n",
       "4   ASSAULT 3 & RELATED OFFENSES          M           S                 0   \n",
       "\n",
       "  age_group perp_sex       perp_race            latitude           longitude  \\\n",
       "0     25-44        M  WHITE HISPANIC   40.73828726100004  -73.91872662599997   \n",
       "1     25-44        M           WHITE  40.752856835000046  -73.97146620999997   \n",
       "2     25-44        F           BLACK   40.82449489700008  -73.91252947799995   \n",
       "3     25-44        M  WHITE HISPANIC   40.86099660100007  -73.90533786599997   \n",
       "4     45-64        M           WHITE   40.52938190900005  -74.16135242599995   \n",
       "\n",
       "   location_id  age_id   date_id  type_id             summons_date summons_key  \n",
       "0         1000      11  20211229        5  2021-12-29T00:00:00.000   238410432  \n",
       "1         1003      11  20211229       24  2021-12-29T00:00:00.000   238410432  \n",
       "2         1002      11  20211229        5  2021-12-29T00:00:00.000   238410432  \n",
       "3         1002      11  20211229        5  2021-12-29T00:00:00.000   238410432  \n",
       "4         1004      12  20211229        5  2021-12-29T00:00:00.000   238410432  "
      ]
     },
     "execution_count": 55,
     "metadata": {},
     "output_type": "execute_result"
    }
   ],
   "source": [
    "fact_table = fact_table.merge(data_2[['summons_date','summons_key']],\n",
    "                  left_on = 'arrest_date',\n",
    "                  right_on = 'summons_date',\n",
    "                  how =\"right\")\n",
    "fact_table.head()"
   ]
  },
  {
   "cell_type": "code",
   "execution_count": 57,
   "metadata": {},
   "outputs": [
    {
     "data": {
      "text/html": [
       "<div>\n",
       "<style scoped>\n",
       "    .dataframe tbody tr th:only-of-type {\n",
       "        vertical-align: middle;\n",
       "    }\n",
       "\n",
       "    .dataframe tbody tr th {\n",
       "        vertical-align: top;\n",
       "    }\n",
       "\n",
       "    .dataframe thead th {\n",
       "        text-align: right;\n",
       "    }\n",
       "</style>\n",
       "<table border=\"1\" class=\"dataframe\">\n",
       "  <thead>\n",
       "    <tr style=\"text-align: right;\">\n",
       "      <th></th>\n",
       "      <th>date_id</th>\n",
       "      <th>location_id</th>\n",
       "      <th>type_id</th>\n",
       "      <th>age_id</th>\n",
       "      <th>arrest_key</th>\n",
       "      <th>summons_key</th>\n",
       "    </tr>\n",
       "  </thead>\n",
       "  <tbody>\n",
       "    <tr>\n",
       "      <th>0</th>\n",
       "      <td>20211229</td>\n",
       "      <td>1000</td>\n",
       "      <td>5</td>\n",
       "      <td>11</td>\n",
       "      <td>238418805</td>\n",
       "      <td>238410432</td>\n",
       "    </tr>\n",
       "    <tr>\n",
       "      <th>1</th>\n",
       "      <td>20211229</td>\n",
       "      <td>1003</td>\n",
       "      <td>24</td>\n",
       "      <td>11</td>\n",
       "      <td>238395969</td>\n",
       "      <td>238410432</td>\n",
       "    </tr>\n",
       "    <tr>\n",
       "      <th>2</th>\n",
       "      <td>20211229</td>\n",
       "      <td>1002</td>\n",
       "      <td>5</td>\n",
       "      <td>11</td>\n",
       "      <td>238405159</td>\n",
       "      <td>238410432</td>\n",
       "    </tr>\n",
       "    <tr>\n",
       "      <th>3</th>\n",
       "      <td>20211229</td>\n",
       "      <td>1002</td>\n",
       "      <td>5</td>\n",
       "      <td>11</td>\n",
       "      <td>238413491</td>\n",
       "      <td>238410432</td>\n",
       "    </tr>\n",
       "    <tr>\n",
       "      <th>4</th>\n",
       "      <td>20211229</td>\n",
       "      <td>1004</td>\n",
       "      <td>5</td>\n",
       "      <td>12</td>\n",
       "      <td>238405174</td>\n",
       "      <td>238410432</td>\n",
       "    </tr>\n",
       "  </tbody>\n",
       "</table>\n",
       "</div>"
      ],
      "text/plain": [
       "    date_id  location_id  type_id  age_id arrest_key summons_key\n",
       "0  20211229         1000        5      11  238418805   238410432\n",
       "1  20211229         1003       24      11  238395969   238410432\n",
       "2  20211229         1002        5      11  238405159   238410432\n",
       "3  20211229         1002        5      11  238413491   238410432\n",
       "4  20211229         1004        5      12  238405174   238410432"
      ]
     },
     "execution_count": 57,
     "metadata": {},
     "output_type": "execute_result"
    }
   ],
   "source": [
    "# take a subset of fact_table for only the needed columns: which are keys and measures\n",
    "fact_table = fact_table[[\"date_id\",\n",
    "                         \"location_id\",\n",
    "                         \"type_id\",\n",
    "                         \"age_id\",\n",
    "                         \"arrest_key\",\n",
    "                         \"summons_key\"]]\n",
    "\n",
    "fact_table.head()"
   ]
  },
  {
   "cell_type": "markdown",
   "metadata": {},
   "source": [
    "### Step 6: Deliver Facts and Dimensions to Data Warehouse (BigQuery)"
   ]
  },
  {
   "cell_type": "code",
   "execution_count": 58,
   "metadata": {},
   "outputs": [],
   "source": [
    "# create a function to load dataframes to BigQuery\n",
    "\n",
    "def load_table_to_bigquery(df,\n",
    "                          table_name,\n",
    "                          dataset_id):\n",
    "\n",
    "    dataset_id = dataset_id #change 301800 to match your project id\n",
    "\n",
    "    dataset_ref = bigquery_client.dataset(dataset_id)\n",
    "    job_config = bigquery.LoadJobConfig()\n",
    "    job_config.autodetect = True\n",
    "    job_config.write_disposition = \"WRITE_TRUNCATE\"\n",
    "\n",
    "    upload_table_name = f\"{dataset_id}.{table_name}\"\n",
    "    \n",
    "    load_job = bigquery_client.load_table_from_dataframe(df,\n",
    "                                                upload_table_name,\n",
    "                                                job_config = job_config)\n",
    "        \n",
    "    print(f\"Starting job {load_job}\")"
   ]
  },
  {
   "cell_type": "code",
   "execution_count": 59,
   "metadata": {},
   "outputs": [
    {
     "name": "stdout",
     "output_type": "stream",
     "text": [
      "Starting job LoadJob<project=natural-treat-340818, location=US, id=73113c59-79d6-4406-abc9-d91fde8bb5bf>\n"
     ]
    }
   ],
   "source": [
    "# load your first dimension to BigQuery\n",
    "\n",
    "load_table_to_bigquery(df = location_dim,\n",
    "                      table_name = \"location_dim\",\n",
    "                      dataset_id = dataset_id)"
   ]
  },
  {
   "cell_type": "code",
   "execution_count": 60,
   "metadata": {},
   "outputs": [
    {
     "name": "stdout",
     "output_type": "stream",
     "text": [
      "Starting job LoadJob<project=natural-treat-340818, location=US, id=588a45a7-48ca-4911-8287-53a8385fa1e2>\n"
     ]
    }
   ],
   "source": [
    "# load your second dimension to BigQuery\n",
    "\n",
    "load_table_to_bigquery(df = Age_dim,\n",
    "                      table_name = \"Age_dim\",\n",
    "                      dataset_id = dataset_id)"
   ]
  },
  {
   "cell_type": "code",
   "execution_count": 61,
   "metadata": {},
   "outputs": [
    {
     "name": "stdout",
     "output_type": "stream",
     "text": [
      "Starting job LoadJob<project=natural-treat-340818, location=US, id=484cb116-a17e-4888-8826-b2b6d5665143>\n"
     ]
    }
   ],
   "source": [
    "# load your third dimension to BigQuery\n",
    "\n",
    "load_table_to_bigquery(df = date_dim,\n",
    "                      table_name = \"date_dim\",\n",
    "                      dataset_id = dataset_id)"
   ]
  },
  {
   "cell_type": "code",
   "execution_count": 62,
   "metadata": {},
   "outputs": [
    {
     "name": "stdout",
     "output_type": "stream",
     "text": [
      "Starting job LoadJob<project=natural-treat-340818, location=US, id=d53b32df-45dc-43b6-8a06-b79171eb0039>\n"
     ]
    }
   ],
   "source": [
    "# load your third dimension to BigQuery\n",
    "\n",
    "load_table_to_bigquery(df = Type_dim,\n",
    "                      table_name = \"Type_dim\",\n",
    "                      dataset_id = dataset_id)"
   ]
  },
  {
   "cell_type": "code",
   "execution_count": 63,
   "metadata": {},
   "outputs": [
    {
     "name": "stdout",
     "output_type": "stream",
     "text": [
      "Starting job LoadJob<project=natural-treat-340818, location=US, id=bbfd3ed0-a152-4e8d-8799-24ce3fa49282>\n"
     ]
    }
   ],
   "source": [
    "# load your fact table to BigQuery\n",
    "load_table_to_bigquery(df = fact_table,\n",
    "                      table_name = \"NYC_Crime\",\n",
    "                      dataset_id = dataset_id)"
   ]
  },
  {
   "cell_type": "code",
   "execution_count": null,
   "metadata": {},
   "outputs": [],
   "source": []
  }
 ],
 "metadata": {
  "kernelspec": {
   "display_name": "Python 3",
   "language": "python",
   "name": "python3"
  },
  "language_info": {
   "codemirror_mode": {
    "name": "ipython",
    "version": 3
   },
   "file_extension": ".py",
   "mimetype": "text/x-python",
   "name": "python",
   "nbconvert_exporter": "python",
   "pygments_lexer": "ipython3",
   "version": "3.8.8"
  }
 },
 "nbformat": 4,
 "nbformat_minor": 2
}
